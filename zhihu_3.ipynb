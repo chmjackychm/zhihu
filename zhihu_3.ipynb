{
 "cells": [
  {
   "cell_type": "code",
   "execution_count": null,
   "metadata": {
    "collapsed": true
   },
   "outputs": [],
   "source": [
    "# from zhihu_oauth import ZhihuClient\n",
    "# from zhihu_oauth.exception import NeedCaptchaException\n",
    "# client = ZhihuClient()\n",
    "# email = \"chmjackychm@gmail.com\"\n",
    "# pw = \"\"\n",
    "# client.login_in_terminal(email,pw)\n",
    "#client.save_token('token.pk1')"
   ]
  },
  {
   "cell_type": "code",
   "execution_count": 164,
   "metadata": {
    "collapsed": true
   },
   "outputs": [],
   "source": [
    "import pandas as pd\n",
    "import numpy as np"
   ]
  },
  {
   "cell_type": "code",
   "execution_count": 165,
   "metadata": {
    "collapsed": true
   },
   "outputs": [],
   "source": [
    "from __future__ import unicode_literals, print_function\n",
    "import os\n",
    "from zhihu_oauth import ZhihuClient\n",
    "from zhihu_oauth.zhcls.activity import ActType"
   ]
  },
  {
   "cell_type": "code",
   "execution_count": 166,
   "metadata": {
    "collapsed": true
   },
   "outputs": [],
   "source": [
    "client = ZhihuClient()\n",
    "client.load_token('token.pk1')"
   ]
  },
  {
   "cell_type": "code",
   "execution_count": 51,
   "metadata": {
    "collapsed": true
   },
   "outputs": [],
   "source": [
    "me = client.me()"
   ]
  },
  {
   "cell_type": "code",
   "execution_count": 74,
   "metadata": {
    "collapsed": false
   },
   "outputs": [],
   "source": [
    "# for p in me.followers:\n",
    "#     print(p.name)"
   ]
  },
  {
   "cell_type": "code",
   "execution_count": 53,
   "metadata": {
    "collapsed": false
   },
   "outputs": [],
   "source": [
    "# for p in me.followings:\n",
    "#     print(p.name)"
   ]
  },
  {
   "cell_type": "code",
   "execution_count": 189,
   "metadata": {
    "collapsed": true
   },
   "outputs": [],
   "source": [
    "me_question_following = [act.target.title for act in me.activities if act.type == \"FOLLOW_QUESTION\"]\n",
    "me_question_votedup = [act.target.question.title for act in me.activities if act.type == \"VOTEUP_ANSWER\"]"
   ]
  },
  {
   "cell_type": "code",
   "execution_count": 190,
   "metadata": {
    "collapsed": true
   },
   "outputs": [],
   "source": [
    "me_dict = dict(following = np.array(me_question_following),voteup = np.array(me_question_votedup))\n",
    "me_dict_df = pd.DataFrame.from_dict(me_dict,orient = 'index')"
   ]
  },
  {
   "cell_type": "code",
   "execution_count": 167,
   "metadata": {
    "collapsed": false
   },
   "outputs": [],
   "source": [
    "wxd = me.followers[0]\n",
    "lh = me.followers[1]"
   ]
  },
  {
   "cell_type": "code",
   "execution_count": 55,
   "metadata": {
    "collapsed": false
   },
   "outputs": [],
   "source": [
    "lh_following = [p.name for p in lh.followings]\n",
    "wxd_following = [p.name for p in wxd.followings]"
   ]
  },
  {
   "cell_type": "code",
   "execution_count": 56,
   "metadata": {
    "collapsed": true
   },
   "outputs": [],
   "source": [
    "lh_followers = [p.name for p in lh.followers]\n",
    "wxd_followers = [p.name for p in wxd.followers]"
   ]
  },
  {
   "cell_type": "code",
   "execution_count": 57,
   "metadata": {
    "collapsed": false
   },
   "outputs": [],
   "source": [
    "lh_following_df = pd.DataFrame(lh_following)\n",
    "lh_following_df.columns = [\"LH's following\"]\n",
    "\n",
    "lh_followers_df = pd.DataFrame(lh_followers)\n",
    "lh_followers_df.columns = [\"LH's followers\"]\n",
    "\n",
    "wxd_following_df = pd.DataFrame(wxd_following)\n",
    "wxd_following_df.columns = [\"WXD's following\"]\n",
    "\n",
    "wxd_followers_df = pd.DataFrame(wxd_followers)\n",
    "wxd_followers_df.columns = [\"WXD's followers\"]"
   ]
  },
  {
   "cell_type": "code",
   "execution_count": 136,
   "metadata": {
    "collapsed": false
   },
   "outputs": [],
   "source": [
    "writer = pd.ExcelWriter(\"zhihu.xlsx\")\n",
    "\n",
    "lh_following_df.to_excel(writer,'lh following',index=False)\n",
    "lh_followers_df.to_excel(writer,'lh followers',index=False)\n",
    "\n",
    "wxd_following_df.to_excel(writer,'wxd following',index=False)\n",
    "wxd_followers_df.to_excel(writer,'wxd followers',index=False)\n",
    "writer.close()\n"
   ]
  },
  {
   "cell_type": "code",
   "execution_count": 75,
   "metadata": {
    "collapsed": false
   },
   "outputs": [
    {
     "data": {
      "text/plain": [
       "189"
      ]
     },
     "execution_count": 75,
     "metadata": {},
     "output_type": "execute_result"
    }
   ],
   "source": [
    "lh.answer_count"
   ]
  },
  {
   "cell_type": "code",
   "execution_count": 76,
   "metadata": {
    "collapsed": false
   },
   "outputs": [
    {
     "data": {
      "text/plain": [
       "2735"
      ]
     },
     "execution_count": 76,
     "metadata": {},
     "output_type": "execute_result"
    }
   ],
   "source": [
    "lh.voteup_count"
   ]
  },
  {
   "cell_type": "code",
   "execution_count": 108,
   "metadata": {
    "collapsed": false
   },
   "outputs": [],
   "source": [
    "act1 = lh.activities[1]\n",
    "act2 = lh.activities[2]"
   ]
  },
  {
   "cell_type": "code",
   "execution_count": 114,
   "metadata": {
    "collapsed": false
   },
   "outputs": [
    {
     "name": "stdout",
     "output_type": "stream",
     "text": [
      "type is: FOLLOW_QUESTION\n",
      "type is: VOTEUP_ANSWER\n"
     ]
    }
   ],
   "source": [
    "print( 'type is: ' + act1.type)\n",
    "print('type is: ' + act2.type)"
   ]
  },
  {
   "cell_type": "code",
   "execution_count": 120,
   "metadata": {
    "collapsed": false
   },
   "outputs": [],
   "source": [
    "# question_following = []\n",
    "# question_votedup = []\n",
    "# for act in lh.activities:\n",
    "#     if act.type == \"FOLLOW_QUESTION\":\n",
    "# #        print(act.target.title)\n",
    "#         question_following.append(act.target.title)\n",
    "#     elif act.type == \"VOTEUP_ANSWER\":\n",
    "# #        print(act.target.question.title)\n",
    "#         question_votedup.append(act.target.question.title)\n",
    "#     else:\n",
    "#         continue"
   ]
  },
  {
   "cell_type": "code",
   "execution_count": 169,
   "metadata": {
    "collapsed": false
   },
   "outputs": [],
   "source": [
    "lh_question_following = [act.target.title for act in lh.activities if act.type == \"FOLLOW_QUESTION\"]\n",
    "lh_question_votedup = [act.target.question.title for act in lh.activities if act.type == \"VOTEUP_ANSWER\"]\n",
    "\n",
    "wxd_question_following = [act.target.title for act in wxd.activities if act.type == \"FOLLOW_QUESTION\"]\n",
    "wxd_question_votedup = [act.target.question.title for act in wxd.activities if act.type == \"VOTEUP_ANSWER\"]"
   ]
  },
  {
   "cell_type": "code",
   "execution_count": 186,
   "metadata": {
    "collapsed": false
   },
   "outputs": [],
   "source": [
    "# x = np.array([set(lh_question_votedup),set(lh_question_following)])\n",
    "# y = np.array([set(wxd_question_votedup),set(wxd_question_following)])\n",
    "lh_dict = dict(following = np.array(lh_question_following),voteup = np.array(lh_question_votedup))\n",
    "wxd_dict = dict(following = np.array(wxd_question_following),voteup = np.array(wxd_question_votedup))\n",
    "lh_dict_df = pd.DataFrame.from_dict(lh_dict,orient = 'index')\n",
    "wxd_dict_df = pd.DataFrame.from_dict(wxd_dict,orient='index')"
   ]
  },
  {
   "cell_type": "code",
   "execution_count": 179,
   "metadata": {
    "collapsed": false
   },
   "outputs": [],
   "source": [
    "# d = list(map(list, zip(*x)))\n",
    "# e = list(map(list, zip(*y)))\n"
   ]
  },
  {
   "cell_type": "code",
   "execution_count": 172,
   "metadata": {
    "collapsed": false
   },
   "outputs": [],
   "source": [
    "# p = pd.DataFrame(d)\n",
    "# p.columns = [\"votedup\",'question']\n",
    "# q = pd.DataFrame(e)\n",
    "# q.columns = [\"votedup\",'question']"
   ]
  },
  {
   "cell_type": "code",
   "execution_count": 174,
   "metadata": {
    "collapsed": false
   },
   "outputs": [],
   "source": [
    "# writer = pd.ExcelWriter(\"zhihu2.xlsx\")\n",
    "# p.to_excel(writer,'lh activities',index=False)\n",
    "# q.to_excel(writer,'wxd activities',index=False)\n",
    "# writer.close()"
   ]
  },
  {
   "cell_type": "code",
   "execution_count": 191,
   "metadata": {
    "collapsed": true
   },
   "outputs": [],
   "source": [
    "writer = pd.ExcelWriter(\"zhihu3.xlsx\")\n",
    "lh_dict_df.transpose().to_excel(writer,'lh activities',index=False)\n",
    "wxd_dict_df.transpose().to_excel(writer,'wxd activities',index=False)\n",
    "me_dict_df.transpose().to_excel(writer,'me activities',index=False)\n",
    "writer.close()"
   ]
  },
  {
   "cell_type": "code",
   "execution_count": null,
   "metadata": {
    "collapsed": true
   },
   "outputs": [],
   "source": []
  },
  {
   "cell_type": "code",
   "execution_count": null,
   "metadata": {
    "collapsed": true
   },
   "outputs": [],
   "source": []
  },
  {
   "cell_type": "code",
   "execution_count": 257,
   "metadata": {
    "collapsed": false
   },
   "outputs": [
    {
     "name": "stdout",
     "output_type": "stream",
     "text": [
      "title: 如何评价SNH48的鞠婧祎被称为4000年第一美女事件？\n"
     ]
    }
   ],
   "source": [
    "t = me.activities[0].target.question.title\n",
    "print('title: '+t)"
   ]
  },
  {
   "cell_type": "code",
   "execution_count": 256,
   "metadata": {
    "collapsed": false
   },
   "outputs": [
    {
     "name": "stdout",
     "output_type": "stream",
     "text": [
      "# of followers of this topic: 267\n"
     ]
    }
   ],
   "source": [
    "x=me.activities[0].target.question\n",
    "print(\"# of followers of this topic: \"+str(x.follower_count))"
   ]
  },
  {
   "cell_type": "code",
   "execution_count": 255,
   "metadata": {
    "collapsed": false
   },
   "outputs": [
    {
     "name": "stdout",
     "output_type": "stream",
     "text": [
      "vote up: 1630\n"
     ]
    }
   ],
   "source": [
    "v = me.activities[0].target.voteup_count\n",
    "print(\"vote up: \"+ str(v))"
   ]
  },
  {
   "cell_type": "code",
   "execution_count": 244,
   "metadata": {
    "collapsed": false
   },
   "outputs": [
    {
     "name": "stdout",
     "output_type": "stream",
     "text": [
      "Q：“为什么小鞠被称为4000年一遇，而不是百年一遇或千年一遇见呢？”A：“因为古巴比伦王颁布了汉谟拉比法典，刻在黑色得玄武岩，鞠婧祎三千七百多年”\n",
      " \n",
      "既然楼主是基于那两条新闻为出发点提问的，就先整理一下这次新闻的传播过程吧。<br><br>先说一下我个人的解读，这个话题的出现，比起理解为利用中日信息不对称从而出口转内销的一次宣（chao）传（zuo），我更相信这只是无心插柳柳成荫的一次偶然。<br><br>首先追根溯源，先说一下这个新闻的出处。目前能找到的是2ch上一个<b>11月03日</b>的串，至于来自哪个板也不重要，反正都是同一天开始传播就对了。这种标题党其实在贴吧之类的地方也不少见，所以一开始就丢了几张图估计也没什么回复就落掉了。<br><br><img src=\"http://pic2.zhimg.com/50/0a0dca0eaf808a0b74271c97e70c0a95_b.jpg\" data-rawwidth=\"1694\" data-rawheight=\"318\" class=\"origin_image zh-lightbox-thumb\" width=\"1694\" data-original=\"http://pic2.zhimg.com/50/0a0dca0eaf808a0b74271c97e70c0a95_r.jpg\">（2ch最早能找到的落串，有更早的出处请指正）<br><br>然而再沉寂了一周，又是一大波安利贴袭来，这次还带上了大量狂霸拽的前缀：【衝撃！】【画像大量】【爆 誕】，还叫上了“橋本環奈を超えた（之前热传的1000年一遇偶像）”这等鲜明的数字对比（4倍- - ），乡民和宅们的目光瞬时被吸引，并引发推特的相互奔告和搜索的小高潮。<br><br><img src=\"http://pic1.zhimg.com/50/ddecccf8b0e4d3cf7537c683b70fc018_b.jpg\" data-rawwidth=\"580\" data-rawheight=\"658\" class=\"origin_image zh-lightbox-thumb\" width=\"580\" data-original=\"http://pic1.zhimg.com/50/ddecccf8b0e4d3cf7537c683b70fc018_r.jpg\"><br>（于<b>11月12日</b>登上雅虎视频榜综合日榜第一）<br><br>然后就是出口转内销的过程了，首先是某些长期蹲着日本推特热门话题的段子手，运用他们阅读汉字高超的水平，把“中国で4000年に一人のアイドル（中国四千年一遇的偶像）”读成了“中国4000年第一美女”。咋一看好像没错，但仔细推敲这脑补空间可大了。因为“偶像”在中国娱乐圈内也不是十分成熟的职业分类，所以把鞠婧祎形容为难得一现的优质偶像这种说法是可以接受的，但“第一美女”这种翻译一出，就出现了诸如楼主的新闻链接里的那些奇怪部分了：<br><br><blockquote>近日有日本媒体评选中国第一美女，不过出人意料的是，最终夺冠的并非是范冰冰、章子怡等国际范老牌美女，而是新生代中国少女偶像团体SNH48的成员鞠婧祎。因此，鞠婧祎成为连续一周占据日本部分门户网站搜索第一的人物。<br></blockquote><br>章子怡，范冰冰躺着也中枪有木有！从头到尾根本没有出现过“评选”以及她们的名字，只是因为“第一美女”这个词媒体就自动脑补出了一场犹如选举般轰轰烈烈的日本全民投票了。<br><br><img src=\"http://pic4.zhimg.com/50/fe4d25e3799d01d5e94d0828e9a472eb_b.jpg\" data-rawwidth=\"580\" data-rawheight=\"103\" class=\"origin_image zh-lightbox-thumb\" width=\"580\" data-original=\"http://pic4.zhimg.com/50/fe4d25e3799d01d5e94d0828e9a472eb_r.jpg\"><p>（<b>11月13日</b>登上微博的实时热搜榜，成为热门话题）</p><br><br>然后根据历史的惯例，之后就是各大门户网站，网络媒体的争相报道了。这里还得解释一下第二个小G点，就是日本人认为的中国历史是4000年，是因为我国明确纪年的历史大约为4000年，也就是公元前21世纪的夏朝开始的。这也成为了评论增多的因素之一，毕竟审美观因人而异，历史观的不同就把对喷的空间上升到另一个层次了。<br><br><img src=\"http://pic2.zhimg.com/50/2e8552777166ddf3fe65785943401b61_b.jpg\" data-rawwidth=\"1314\" data-rawheight=\"1174\" class=\"origin_image zh-lightbox-thumb\" width=\"1314\" data-original=\"http://pic2.zhimg.com/50/2e8552777166ddf3fe65785943401b61_r.jpg\">（看到的新闻中最好笑的一条，误把团内其他成员的照片错认为小鞠整容前。团内第一段子手李艺彤有对此回应，具体详见：<a href=\"http://link.zhihu.com/?target=http%3A//www.weibo.com/3700233717/BwJoJ1jJc\" class=\" external\" target=\"_blank\" rel=\"nofollow noreferrer\"><span class=\"invisible\">http://www.</span><span class=\"visible\">weibo.com/3700233717/Bw</span><span class=\"invisible\">JoJ1jJc</span><span class=\"ellipsis\"></span><i class=\"icon-external\"></i></a>）<br><br><img src=\"http://pic2.zhimg.com/50/c271a9c977f98054008065e7698c9649_b.jpg\" data-rawwidth=\"1518\" data-rawheight=\"752\" class=\"origin_image zh-lightbox-thumb\" width=\"1518\" data-original=\"http://pic2.zhimg.com/50/c271a9c977f98054008065e7698c9649_r.jpg\">（图为“鞠婧祎”一词的百度指数，峰值是各大网站和地方媒体开始转发的<b>11月14日</b>）<br><br><img src=\"http://pic4.zhimg.com/50/80f103f0b68a3e0fa5929e2e5d2b28df_b.jpg\" data-rawwidth=\"440\" data-rawheight=\"658\" class=\"origin_image zh-lightbox-thumb\" width=\"440\" data-original=\"http://pic4.zhimg.com/50/80f103f0b68a3e0fa5929e2e5d2b28df_r.jpg\"><br>（<b>11月16日，</b>此话题开始登上报纸，图为南方都市报头条）<br><br>至于本人微博粉丝涨幅和这话题的后续报道就不再继续跟踪了，具体可以自己去搜索了解。虽然一开始我说这话题在日本的出现只是一次偶然，但在段子手开始转发后就有久尚（snh48运营公司）在背后推波助澜的痕迹了。就算不是久尚亲自参与“4000年第一美女”这个话题的推广，也多多少少有利用其话题性来提高知名度及宣传活动等。至于鞠婧祎本人，对此话题更多是避而不谈和一笑而过的态度。不过话题始终只是话题，虽然能在短时间内迅速提升知名度，但能否把外界的关注转换为有效的购买力就是运营方需要考虑的问题了。毕竟日本当时炒得纷纷扬扬的“千年一遇偶像”桥本环奈，其实剧场盘抽选三轮连一部都还没切（传言）。\n",
      " \n",
      "国内媒体误传而已，日本原文是\"4000年一遇的偶像\"，也不是啥媒体评选，就是十一区某宅在2ch类似于贴吧的一个地方发了个串，后来被日本雅虎转载才大热。<br>因为中国还没有真正的偶像土壤，偶像的概念和明星其实有区别。到了中国就变成4000年一遇的美女了。<br>-----白石马云淡风清\n",
      " \n",
      "我记得说的是第一偶像 不知道怎么就变成美女了…\n",
      " \n",
      "------------------------------------------------15.02.02更新--------------------------------------------------<br><b>注：原问题为如何评价SNH48的鞠婧祎</b><br><br><br><br><br>更新一下答案。<br>前一阵机缘巧合和米娜的朋友喝了个下午茶。聊到这个话题。<br>“四千年”这件事情还真是和久尚没太大关系，光从官微等平台上基本没提及就可以感受到。<br>完全是日媒报道，然后国内的营销号觉得有爆点就扒来了……然后……给鞠婧祎吸了不少粉也招了不少黑。<br>就她个人来说对这件事情也有点无奈。从这个视频里也可以感受到。<br>可以理解。毕竟，抬头太大，动不动就被拉出来引仇恨。<br><br><a class=\"video-box\" href=\"http://link.zhihu.com/?target=http%3A//www.iqiyi.com/w_19rs02g8it.html\" target=\"_blank\">              <img class=\"thumbnail\" src=\"http://u7.qiyipic.com/image/20150201/dc/44/uv_4000907018_m_601_m0.jpg\"><span class=\"content\">                <span class=\"title\">【头条】SNH48鞠婧祎安徽卫视春晚玩雪遭记者调侃-_20150201<span class=\"z-ico-extern-gray\"></span><span class=\"z-ico-extern-blue\"></span></span>                <span class=\"url\"><span class=\"z-ico-video\"></span>http://www.iqiyi.com/w_19rs02g8it.html</span>              </span>            </a><br>------------------------------------------------15.02.02更新--------------------------------------------------<br><br>能够在知乎上看到这个问题说明这一次久尚的微博营销终于成功了。<br>鞠婧祎粉丝呼啦呼啦的飞涨。连带着其他成员和SNH官微。<br>不知道还有没有人记得，不久前也是生男孩家，出过一个新闻：【<a class=\" wrap external\" href=\"http://link.zhihu.com/?target=http%3A//huati.weibo.com/k/%25E4%25B8%25AD%25E5%259B%25BD%25E5%2581%25B6%25E5%2583%258F%25E5%25A5%25B3%25E5%259B%25A2%25E8%25A2%25AB%25E6%2589%2593%25E5%258E%258B%3Ffrom%3D501\" target=\"_blank\" rel=\"nofollow noreferrer\">#中国偶像女团被打压#<i class=\"icon-external\"></i></a><a href=\"http://link.zhihu.com/?target=http%3A//weibo.com/n/SNH48%3Ffrom%3Dfeed%26loc%3Dat\" class=\" wrap external\" target=\"_blank\" rel=\"nofollow noreferrer\">@SNH48<i class=\"icon-external\"></i></a> 最新MV<a class=\" wrap external\" href=\"http://link.zhihu.com/?target=http%3A//huati.weibo.com/k/UZA%3Ffrom%3D501\" target=\"_blank\" rel=\"nofollow noreferrer\">#UZA#<i class=\"icon-external\"></i></a>因女同性暗示在韩国禁播】 <a href=\"http://link.zhihu.com/?target=http%3A//weibo.com/2709577332/BrHNQ9P8X%3Ftype%3Dcomment\" class=\" wrap external\" target=\"_blank\" rel=\"nofollow noreferrer\">Sina Visitor System<i class=\"icon-external\"></i></a><br>结果不了了之，被绝大多数人都看出是炒作。<br>时隔不久，久尚学聪明了，哪里跌倒就从哪里爬起。<br><br>第一次看到这条新闻的时候就觉得应该能火一把。“日本评选、中国第一美女、四千年”，几乎都是引爆网民G点的词，万万没想到玩的这么大，各大门户都转载了，不少还放在了首页。<br><b>为了点击率你们也是蛮拼的啊喂！</b><br>咳，说回正题。<br>如何评价？<br>如果是指评价外貌和唱功等整体能力的话，<br>嗯，在整个SNH系里也算出类拔萃的了。<br>不然也不会出道没多久就给了一首solo曲。<br><a href=\"http://link.zhihu.com/?target=http%3A//www.iqiyi.com/v_19rrhd3gbw.html\" class=\" wrap external\" target=\"_blank\" rel=\"nofollow noreferrer\">SNH48 - 都是夜风惹的祸 广州演唱会现场版<i class=\"icon-external\"></i></a><br><br><br>如果光外貌。<br>男生喜欢女生讨厌的类型。<br><b>小男生看到了会忍不住有满满的保护欲。这大眼睛，人畜无害的盯着你，你会不想一把搂进怀里？</b><br>当然，<b>换做女生可能就变成“小婊砸你装什么白莲花扮什么无辜，狐狸精！”</b><br><img src=\"http://pic2.zhimg.com/50/810ef1a32e5337aec603a8608c992fd5_b.jpg\" data-rawwidth=\"446\" data-rawheight=\"503\" class=\"origin_image zh-lightbox-thumb\" width=\"446\" data-original=\"http://pic2.zhimg.com/50/810ef1a32e5337aec603a8608c992fd5_r.jpg\"><br><br>咳。玩笑话，姑娘们不要当真。<br><br>顺便。小鞠很聪明，很明白宅男喜欢看什么。<br>snh系里为数不多会<b>发腿/身材照</b>的姑娘之一。<br><img src=\"http://pic3.zhimg.com/50/782988fe3c4ef7375a5ebdf08a7d3ac6_b.jpg\" data-rawwidth=\"218\" data-rawheight=\"373\" class=\"content_image\" width=\"218\"><img src=\"http://pic1.zhimg.com/50/5f1c438a1c3940b23c1e83c60aaefdf0_b.jpg\" data-rawwidth=\"214\" data-rawheight=\"284\" class=\"content_image\" width=\"214\"><br><img src=\"http://pic3.zhimg.com/50/c187be2b1210afb21b3ba482e4ac4596_b.jpg\" data-rawwidth=\"210\" data-rawheight=\"350\" class=\"content_image\" width=\"210\"><br><br><br>综上所述。以久尚目前的资源倾斜来看，应该是<b>继退团的汤敏以后，新一位主推。</b><br>作为门面担当来看没什么大问题，但是目前的最大的短板还是给人觉得太高冷。队友评价”矮贵冷艳“。<br>而且“四千年第一美女”的抬头实在太大，非议一定不会少。<br>好在从这两天的微博来看，姑娘的心脏够大，是个可造之材。<br><br><br><b>只要不退团。</b>\n",
      " \n",
      "金闪闪收藏她原型了没有？\n",
      " \n",
      "这里分享个趣味NETA吧。<br><br>1、白石马云已经得到了PB和林B护佑，今年总选估计第一咯www<br>2、AKB48的岛崎遥香和NMB48的太田梦莉也已经开始在755表示菊花女神好美。<br><br>菊花盛世\n",
      " \n",
      "我觉得是个成功的值得肯定的豪不下限的炒作，希望再接在励\n",
      " \n",
      "<img src=\"http://pic2.zhimg.com/50/365e58126ed16939dd420602e0c7ce9d_b.jpg\" data-rawwidth=\"3095\" data-rawheight=\"2060\" class=\"origin_image zh-lightbox-thumb\" width=\"3095\" data-original=\"http://pic2.zhimg.com/50/365e58126ed16939dd420602e0c7ce9d_r.jpg\">昨晚见了真人，的确算是美女。但是4000年就有点夸张了。\n",
      " \n",
      "题主不问这问题我都不认识她。\n",
      " \n",
      "93炒新闻从来没有下限，这种报道简直让人从身体上接受不了。\n",
      " \n",
      "炒作\n",
      " \n",
      "说真的，我觉得她侧脸不太好看。。感觉很奇怪\n",
      " \n",
      "不知为什么中华5000年到日本就成4000年了…… \n",
      " \n",
      "见过1000年前的人长什么样吗？就4000年一遇\n",
      " \n",
      "下面引自贴吧，作者hjj52351<br>当真是吹的飞起，读完如觉不适请轻喷，全当戏言就好。<br><br>川蜀有佳人<br>绝世而独立<br>一顾倾人城<br>再顾倾人国<br>华夏以降一<br>千年得秋水明眸顾盼沉鱼之美<br>千年得林籁泉韵袅袅落雁之音<br>千年得蛾眉皓齿谈笑闭月之容<br>千年得冰肌玉骨俯拾羞花之貌<br>此谓之四千年一遇也<br><br>写得的确很有味，但吹的我也是看完一身汗，到底多美也是纯看个人喜恶，这段供大家娱乐随便看看。<img data-rawwidth=\"1147\" data-rawheight=\"1149\" src=\"http://pic2.zhimg.com/50/edfe7778b93d7cc9a8c43094e4d57ded_b.jpeg\" class=\"origin_image zh-lightbox-thumb\" width=\"1147\" data-original=\"http://pic2.zhimg.com/50/edfe7778b93d7cc9a8c43094e4d57ded_r.jpeg\">\n",
      " \n",
      "翻了下评论似乎已经解释的很清楚了？<br>只是炒作而已，原意是“中国四千年终于出了一个适合当偶像的女孩呀”~<br>国内偶像文化才起步多久？233又有几个符合11区审美的组合？比如SNH48。<br>说起来根本就没有任何可比性，还扯啥古代美女orz就SNH48本身来说，团狗表示小鞠确实是位不可多得的偶像，无论是本人的歌舞素质还是身为偶像的觉悟都非常非常棒。<br>总之她完全担得起“偶像”这个称号。\n",
      " \n",
      "虽然是美女，但是四千年实在是夸张了。总的来说还是噱头吧。\n",
      " \n",
      "是真的！！！<br>因为古巴比伦颁布了汉谟拉比法典，刻在黑色的玄武岩，鞠婧祎经三千七八多年。。。。\n",
      " \n",
      "这个意思是说4000年前有比她漂亮的咯\n",
      " \n",
      "说的跟见过从4000年前到150年前的人似的……\n",
      " \n",
      "看日综久了，任何一个参加综艺的演员都是用“顶级的芸能人”介绍的，某某食物都是“全国第一的xxx”，各种看似平凡人都是“全国xx比赛第一名”，还经常评选“第一美少女”…感觉，这种第一第一的比赛很多，也精彩夸大头衔哦\n",
      " \n",
      "我一直坚信吹的越凶实力越空的道理\n",
      " \n",
      "记得去年国内也有类似的报道，标题大概是这样 <br>厦门大学千年一遇的大四漂亮学姐？？<br>标题党罢了，炒作手法就跟小孩子吵架一样\n",
      " \n",
      "小鞠：你叫我四千年，问过我的意见了吗！<br>记得我在哪里看见过一个视频\n",
      " \n",
      "公司出口转内销的炒作只为捧红她\n",
      " \n",
      "小鞠是4000年第一偶像，不了解的可以去看看SNH48 N队的公演，你就知道为什么那么多人喜欢了，不只是因为好看\n",
      " \n",
      "日本2CH上死宅先是谈起，后来是到YAHOO检索第一位，然后顺手久尚这次学会了给自己做个营销，虽然可能鞠婧祎的真实的粉丝数量不会有增长，但起码已经有人认识到了“SNH48”这个团体，也认识了这个团体里有“鞠婧祎”这个人。有点像我党刚开始的时候让一部分人先富起来然后带动其他人这样的感觉.......现在个人的名气还是其次，最最主要的是让人知道有“SNH48”。<br><br>久尚就是不舍得扔资源，怕出第二个汤敏。作为郡骑我当然希望把资源扔给SAVO了啊。\n",
      " \n",
      "原标题是“中国4000年偶像第一人”<br>然后传来传去就变成“中国4000年一遇的美女”<br><br>额 后面的东西我就不用说了。。。\n",
      " \n",
      "毕竟海外48group\n",
      " \n",
      "人靠衣装，马靠鞍。 美女主要靠PS，4000年靠多次PS。<img src=\"http://pic4.zhimg.com/50/1000b4a0ee3d80df3ed7263f7b06b0eb_b.jpg\" data-rawwidth=\"527\" data-rawheight=\"531\" class=\"origin_image zh-lightbox-thumb\" width=\"527\" data-original=\"http://pic4.zhimg.com/50/1000b4a0ee3d80df3ed7263f7b06b0eb_r.jpg\">\n",
      " \n",
      "前段时间又出了一个新的4000年美少女 而且还是snh48里的 <br>我赌五毛是炒作\n",
      " \n",
      "怎么说呢，在我看来，日本网友的评论虽有夸张的水分，但是看到鞠婧祎的写真照片还是眼前一亮，绝对的小清新哪。不信你看！<a href=\"http://link.zhihu.com/?target=http%3A//news.qiuyi120.com/xwtk/nsex/48061_1.html\" class=\" wrap external\" target=\"_blank\" rel=\"nofollow noreferrer\">鞠婧祎个人写真集<i class=\"icon-external\"></i></a>\n",
      " \n"
     ]
    }
   ],
   "source": [
    "for a in x.answers:\n",
    "    print(a.content)\n",
    "    print(\" \")"
   ]
  },
  {
   "cell_type": "code",
   "execution_count": 245,
   "metadata": {
    "collapsed": false
   },
   "outputs": [
    {
     "ename": "AttributeError",
     "evalue": "'str' object has no attribute 'content'",
     "output_type": "error",
     "traceback": [
      "\u001b[1;31m\u001b[0m",
      "\u001b[1;31mAttributeError\u001b[0mTraceback (most recent call last)",
      "\u001b[1;32m<ipython-input-245-9f59473e95b0>\u001b[0m in \u001b[0;36m<module>\u001b[1;34m()\u001b[0m\n\u001b[1;32m----> 1\u001b[1;33m \u001b[0mt\u001b[0m\u001b[1;33m.\u001b[0m\u001b[0mcontent\u001b[0m\u001b[1;33m\u001b[0m\u001b[0m\n\u001b[0m",
      "\u001b[1;31mAttributeError\u001b[0m: 'str' object has no attribute 'content'"
     ]
    }
   ],
   "source": []
  },
  {
   "cell_type": "code",
   "execution_count": 222,
   "metadata": {
    "collapsed": false
   },
   "outputs": [
    {
     "data": {
      "text/plain": [
       "101316963"
      ]
     },
     "execution_count": 222,
     "metadata": {},
     "output_type": "execute_result"
    }
   ],
   "source": [
    "t.id"
   ]
  },
  {
   "cell_type": "code",
   "execution_count": 223,
   "metadata": {
    "collapsed": false
   },
   "outputs": [
    {
     "data": {
      "text/plain": [
       "14"
      ]
     },
     "execution_count": 223,
     "metadata": {},
     "output_type": "execute_result"
    }
   ],
   "source": [
    "t."
   ]
  }
 ],
 "metadata": {
  "kernelspec": {
   "display_name": "Python 3",
   "language": "python",
   "name": "python3"
  },
  "language_info": {
   "codemirror_mode": {
    "name": "ipython",
    "version": 3
   },
   "file_extension": ".py",
   "mimetype": "text/x-python",
   "name": "python",
   "nbconvert_exporter": "python",
   "pygments_lexer": "ipython3",
   "version": "3.4.3"
  }
 },
 "nbformat": 4,
 "nbformat_minor": 0
}
