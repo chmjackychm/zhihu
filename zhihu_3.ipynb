{
 "cells": [
  {
   "cell_type": "code",
   "execution_count": null,
   "metadata": {
    "collapsed": true
   },
   "outputs": [],
   "source": [
    "# from zhihu_oauth import ZhihuClient\n",
    "# from zhihu_oauth.exception import NeedCaptchaException\n",
    "# client = ZhihuClient()\n",
    "# email = \"chmjackychm@gmail.com\"\n",
    "# pw = \"\"\n",
    "# client.login_in_terminal(email,pw)\n",
    "#client.save_token('token.pk1')"
   ]
  },
  {
   "cell_type": "code",
   "execution_count": 164,
   "metadata": {
    "collapsed": true
   },
   "outputs": [],
   "source": [
    "import pandas as pd\n",
    "import numpy as np"
   ]
  },
  {
   "cell_type": "code",
   "execution_count": 306,
   "metadata": {
    "collapsed": true
   },
   "outputs": [],
   "source": [
    "from __future__ import unicode_literals, print_function\n",
    "import os\n",
    "from zhihu_oauth import ZhihuClient\n",
    "from zhihu_oauth import Topic, Question"
   ]
  },
  {
   "cell_type": "code",
   "execution_count": 166,
   "metadata": {
    "collapsed": true
   },
   "outputs": [],
   "source": [
    "client = ZhihuClient()\n",
    "client.load_token('token.pk1')"
   ]
  },
  {
   "cell_type": "code",
   "execution_count": 51,
   "metadata": {
    "collapsed": true
   },
   "outputs": [],
   "source": [
    "me = client.me()"
   ]
  },
  {
   "cell_type": "code",
   "execution_count": 74,
   "metadata": {
    "collapsed": false
   },
   "outputs": [],
   "source": [
    "# for p in me.followers:\n",
    "#     print(p.name)"
   ]
  },
  {
   "cell_type": "code",
   "execution_count": 53,
   "metadata": {
    "collapsed": false
   },
   "outputs": [],
   "source": [
    "# for p in me.followings:\n",
    "#     print(p.name)"
   ]
  },
  {
   "cell_type": "code",
   "execution_count": 189,
   "metadata": {
    "collapsed": true
   },
   "outputs": [],
   "source": [
    "me_question_following = [act.target.title for act in me.activities if act.type == \"FOLLOW_QUESTION\"]\n",
    "me_question_votedup = [act.target.question.title for act in me.activities if act.type == \"VOTEUP_ANSWER\"]"
   ]
  },
  {
   "cell_type": "code",
   "execution_count": 190,
   "metadata": {
    "collapsed": true
   },
   "outputs": [],
   "source": [
    "me_dict = dict(following = np.array(me_question_following),voteup = np.array(me_question_votedup))\n",
    "me_dict_df = pd.DataFrame.from_dict(me_dict,orient = 'index')"
   ]
  },
  {
   "cell_type": "code",
   "execution_count": 167,
   "metadata": {
    "collapsed": false
   },
   "outputs": [],
   "source": [
    "wxd = me.followers[0]\n",
    "lh = me.followers[1]"
   ]
  },
  {
   "cell_type": "code",
   "execution_count": 55,
   "metadata": {
    "collapsed": false
   },
   "outputs": [],
   "source": [
    "lh_following = [p.name for p in lh.followings]\n",
    "wxd_following = [p.name for p in wxd.followings]"
   ]
  },
  {
   "cell_type": "code",
   "execution_count": 56,
   "metadata": {
    "collapsed": true
   },
   "outputs": [],
   "source": [
    "lh_followers = [p.name for p in lh.followers]\n",
    "wxd_followers = [p.name for p in wxd.followers]"
   ]
  },
  {
   "cell_type": "code",
   "execution_count": 57,
   "metadata": {
    "collapsed": false
   },
   "outputs": [],
   "source": [
    "lh_following_df = pd.DataFrame(lh_following)\n",
    "lh_following_df.columns = [\"LH's following\"]\n",
    "\n",
    "lh_followers_df = pd.DataFrame(lh_followers)\n",
    "lh_followers_df.columns = [\"LH's followers\"]\n",
    "\n",
    "wxd_following_df = pd.DataFrame(wxd_following)\n",
    "wxd_following_df.columns = [\"WXD's following\"]\n",
    "\n",
    "wxd_followers_df = pd.DataFrame(wxd_followers)\n",
    "wxd_followers_df.columns = [\"WXD's followers\"]"
   ]
  },
  {
   "cell_type": "code",
   "execution_count": 136,
   "metadata": {
    "collapsed": false
   },
   "outputs": [],
   "source": [
    "writer = pd.ExcelWriter(\"zhihu.xlsx\")\n",
    "\n",
    "lh_following_df.to_excel(writer,'lh following',index=False)\n",
    "lh_followers_df.to_excel(writer,'lh followers',index=False)\n",
    "\n",
    "wxd_following_df.to_excel(writer,'wxd following',index=False)\n",
    "wxd_followers_df.to_excel(writer,'wxd followers',index=False)\n",
    "writer.close()\n"
   ]
  },
  {
   "cell_type": "code",
   "execution_count": 75,
   "metadata": {
    "collapsed": false
   },
   "outputs": [
    {
     "data": {
      "text/plain": [
       "189"
      ]
     },
     "execution_count": 75,
     "metadata": {},
     "output_type": "execute_result"
    }
   ],
   "source": [
    "lh.answer_count"
   ]
  },
  {
   "cell_type": "code",
   "execution_count": 76,
   "metadata": {
    "collapsed": false
   },
   "outputs": [
    {
     "data": {
      "text/plain": [
       "2735"
      ]
     },
     "execution_count": 76,
     "metadata": {},
     "output_type": "execute_result"
    }
   ],
   "source": [
    "lh.voteup_count"
   ]
  },
  {
   "cell_type": "code",
   "execution_count": 108,
   "metadata": {
    "collapsed": false
   },
   "outputs": [],
   "source": [
    "act1 = lh.activities[1]\n",
    "act2 = lh.activities[2]"
   ]
  },
  {
   "cell_type": "code",
   "execution_count": 114,
   "metadata": {
    "collapsed": false
   },
   "outputs": [
    {
     "name": "stdout",
     "output_type": "stream",
     "text": [
      "type is: FOLLOW_QUESTION\n",
      "type is: VOTEUP_ANSWER\n"
     ]
    }
   ],
   "source": [
    "print( 'type is: ' + act1.type)\n",
    "print('type is: ' + act2.type)"
   ]
  },
  {
   "cell_type": "code",
   "execution_count": 120,
   "metadata": {
    "collapsed": false
   },
   "outputs": [],
   "source": [
    "# question_following = []\n",
    "# question_votedup = []\n",
    "# for act in lh.activities:\n",
    "#     if act.type == \"FOLLOW_QUESTION\":\n",
    "# #        print(act.target.title)\n",
    "#         question_following.append(act.target.title)\n",
    "#     elif act.type == \"VOTEUP_ANSWER\":\n",
    "# #        print(act.target.question.title)\n",
    "#         question_votedup.append(act.target.question.title)\n",
    "#     else:\n",
    "#         continue"
   ]
  },
  {
   "cell_type": "code",
   "execution_count": 169,
   "metadata": {
    "collapsed": false
   },
   "outputs": [],
   "source": [
    "#find people's all followers/followings\n",
    "\n",
    "lh_question_following = [act.target.title for act in lh.activities if act.type == \"FOLLOW_QUESTION\"]\n",
    "lh_question_votedup = [act.target.question.title for act in lh.activities if act.type == \"VOTEUP_ANSWER\"]\n",
    "\n",
    "wxd_question_following = [act.target.title for act in wxd.activities if act.type == \"FOLLOW_QUESTION\"]\n",
    "wxd_question_votedup = [act.target.question.title for act in wxd.activities if act.type == \"VOTEUP_ANSWER\"]"
   ]
  },
  {
   "cell_type": "code",
   "execution_count": 186,
   "metadata": {
    "collapsed": false
   },
   "outputs": [],
   "source": [
    "# x = np.array([set(lh_question_votedup),set(lh_question_following)])\n",
    "# y = np.array([set(wxd_question_votedup),set(wxd_question_following)])\n",
    "lh_dict = dict(following = np.array(lh_question_following),voteup = np.array(lh_question_votedup))\n",
    "wxd_dict = dict(following = np.array(wxd_question_following),voteup = np.array(wxd_question_votedup))\n",
    "lh_dict_df = pd.DataFrame.from_dict(lh_dict,orient = 'index')\n",
    "wxd_dict_df = pd.DataFrame.from_dict(wxd_dict,orient='index')"
   ]
  },
  {
   "cell_type": "code",
   "execution_count": 179,
   "metadata": {
    "collapsed": false
   },
   "outputs": [],
   "source": [
    "# d = list(map(list, zip(*x)))\n",
    "# e = list(map(list, zip(*y)))\n"
   ]
  },
  {
   "cell_type": "code",
   "execution_count": 172,
   "metadata": {
    "collapsed": false
   },
   "outputs": [],
   "source": [
    "# p = pd.DataFrame(d)\n",
    "# p.columns = [\"votedup\",'question']\n",
    "# q = pd.DataFrame(e)\n",
    "# q.columns = [\"votedup\",'question']"
   ]
  },
  {
   "cell_type": "code",
   "execution_count": 174,
   "metadata": {
    "collapsed": false
   },
   "outputs": [],
   "source": [
    "# writer = pd.ExcelWriter(\"zhihu2.xlsx\")\n",
    "# p.to_excel(writer,'lh activities',index=False)\n",
    "# q.to_excel(writer,'wxd activities',index=False)\n",
    "# writer.close()"
   ]
  },
  {
   "cell_type": "code",
   "execution_count": 191,
   "metadata": {
    "collapsed": true
   },
   "outputs": [],
   "source": [
    "writer = pd.ExcelWriter(\"zhihu3.xlsx\")\n",
    "lh_dict_df.transpose().to_excel(writer,'lh activities',index=False)\n",
    "wxd_dict_df.transpose().to_excel(writer,'wxd activities',index=False)\n",
    "me_dict_df.transpose().to_excel(writer,'me activities',index=False)\n",
    "writer.close()"
   ]
  },
  {
   "cell_type": "code",
   "execution_count": null,
   "metadata": {
    "collapsed": true
   },
   "outputs": [],
   "source": [
    "#-----------------------------------------------#"
   ]
  },
  {
   "cell_type": "code",
   "execution_count": 276,
   "metadata": {
    "collapsed": true
   },
   "outputs": [],
   "source": [
    "act = me.activities[0]"
   ]
  },
  {
   "cell_type": "code",
   "execution_count": 277,
   "metadata": {
    "collapsed": false
   },
   "outputs": [
    {
     "name": "stdout",
     "output_type": "stream",
     "text": [
      "title: 如何评价SNH48的鞠婧祎被称为4000年第一美女事件？\n"
     ]
    }
   ],
   "source": [
    "t = act.target.question.title\n",
    "print('title: '+t)"
   ]
  },
  {
   "cell_type": "code",
   "execution_count": 278,
   "metadata": {
    "collapsed": false
   },
   "outputs": [
    {
     "name": "stdout",
     "output_type": "stream",
     "text": [
      "# of followers of this topic: 267\n"
     ]
    }
   ],
   "source": [
    "f=act.target.question\n",
    "print(\"# of followers of this topic: \"+str(f.follower_count))"
   ]
  },
  {
   "cell_type": "code",
   "execution_count": 296,
   "metadata": {
    "collapsed": false
   },
   "outputs": [
    {
     "name": "stdout",
     "output_type": "stream",
     "text": [
      "长风\n",
      "FDJJY\n",
      "匿名用户\n",
      "舒桐\n",
      "面朝大海\n",
      "陈络\n",
      "陈美源\n",
      "不是树洞我是树精\n",
      "kalike\n",
      "大损\n",
      "伊莎贝拉'弗尔曼\n",
      "kioyn\n",
      "王子千\n",
      "李弋\n",
      "YF Leslie\n",
      "情由\n",
      "魔法少女唐马儒\n",
      "Terry Jia\n",
      "秦彧嘉\n",
      "Welkin N\n",
      "余灰灰\n",
      "鸡腿子阿\n",
      "he pi\n",
      "吕嘉辉\n",
      "老子\n",
      "李机\n",
      "小程程\n",
      "骑士团撒\n",
      "靳涛\n",
      "柠子檬\n",
      "Daren Cheng\n",
      "龙英华\n",
      "脑浆\n",
      "双数\n",
      "张家庄\n",
      "Jason Zhan\n",
      "星光居士\n",
      "fiver fiver\n",
      "谢磊\n",
      "叶鸦\n",
      "Bin Cui\n",
      "我就是你见过最帅的啊\n",
      "唐言希\n",
      "iconoelast\n",
      "温伦\n",
      "有木有\n",
      "NEVER\n",
      "黄嘎嘎\n",
      "程佳琳\n",
      "济宁拉莫斯\n",
      "李诗棋\n",
      "Colliot\n",
      "八意永远亭\n",
      "稻草娘南瓜头\n",
      "储笑抒\n",
      "苏浅唱\n",
      "安好\n",
      "fa nice\n",
      "爱扬扬的鹏鹏\n",
      "博扬\n",
      "季鑫源\n",
      "鹿腰汁瑪粒\n",
      "Su22-BackFire\n",
      "大土豆\n",
      "黛色尤墨\n",
      "阴暗\n",
      "Vsvs\n",
      "JoyMonkey\n",
      "野生柚\n",
      "匿名用户\n",
      "阿瓦罗\n",
      "鲤尾鳍\n",
      "阚威\n",
      "杨晓波\n",
      "逗比大小姐\n",
      "Seike\n",
      "黑旁\n",
      "郑琚\n",
      "宁东旭\n",
      "大郭狗\n",
      "姚幺幺\n",
      "Adwelling\n",
      "刘浩\n",
      "大山楂丸\n",
      "Snack晓痴\n",
      "Ginivra小邪\n",
      "尘心\n",
      "刘柏林\n",
      "洪文太\n",
      "林宇宸\n",
      "曾甜儿\n",
      "pastly\n",
      "daijia 老二\n",
      "YueZeng\n",
      "不太冷\n",
      "bruce\n",
      "笑傲网网石济宇\n",
      "蒲公英\n",
      "姚星光\n",
      "搬花苦力\n",
      "年年\n",
      "RyanEric\n",
      "人生海海\n",
      "默默的小狼\n",
      "湛先生\n",
      "董董D\n",
      "gc ni\n",
      "Li ke\n",
      "陈八股\n",
      "遗陌\n",
      "dongdong fan\n",
      "杜少雷\n",
      "louis sky\n",
      "红腓鱼\n",
      "一念之间\n",
      "南北\n",
      "ccq\n",
      "霍岩\n",
      "文喻怀\n",
      "卒子\n",
      "陶玉\n",
      "王泽坤\n",
      "风二中\n",
      "与或非\n",
      "Foursqure\n",
      "东阁\n",
      "夏谷\n",
      "ssqghdsygh\n",
      "匿名用户\n",
      "杨戬\n",
      "一一\n",
      "李斌\n",
      "skywalkerfsr\n",
      "Hanzh\n",
      "lie chen\n",
      "云中三月\n",
      "say chary\n",
      "匿名用户\n",
      "沈旻然\n",
      "jing xu\n",
      "爱看美女的猫咪\n",
      "韩文\n",
      "匿名用户\n",
      "每天都很帅的穗子\n",
      "疯疯疯大蜜嗡\n",
      "喵酱\n",
      "[已重置]\n",
      "两膝动物\n",
      "苏丽珂\n",
      "一马平川流不息\n",
      "靖阳\n",
      "李涵硕\n",
      "Kiku\n",
      "匿名用户\n",
      "张冰玉\n",
      "晴慧\n",
      "百年孤独\n",
      "胡英\n",
      "围观路过xtm\n",
      "寂静岭伯爵\n",
      "乔峰\n",
      "风大浪高\n",
      "盖傲天\n",
      "陈恒\n",
      "rebo\n",
      "贾若若\n",
      "卢泠\n",
      "zy Liu\n",
      "谢机械\n",
      "JOKER\n",
      "数字\n",
      "浣月三千\n",
      "赵季鹰\n",
      "李晨\n",
      "太行狐\n",
      "黄坤\n",
      "丁鹏\n",
      "凝噎\n",
      "丧心病狂的鸟厨\n",
      "刘恩刚\n",
      "叽基\n",
      "王熙辰Cyndi\n",
      "星星\n",
      "匿名用户\n",
      "郭晓波\n",
      "传说中的问题君\n",
      "我是我\n",
      "匿名用户\n",
      "高城亚树\n",
      "韶珺\n",
      "阿怪\n",
      "cynic\n",
      "一只刺猬\n",
      "皮皮鲁的小皮鞭\n",
      "宋胜杰\n",
      "老阿梨\n",
      "蔡先生\n",
      "[已重置]\n",
      "沈雪健\n",
      "葱丝\n",
      "鹿萌萌\n",
      "叶波\n",
      "匿名用户\n",
      "三野池\n",
      "Evan Xu\n",
      "张滔\n",
      "匿名用户\n",
      "元气\n",
      "Floria Serene\n",
      "fangwz\n",
      "崔凯\n",
      "晨光微曦\n",
      "爱吃的snail\n",
      "未录\n",
      "pippobobo\n",
      "around the sky\n",
      "ZaZc\n",
      "丹三\n",
      "皂动的青春\n",
      "Thompkun11\n",
      "张洪钊\n",
      "Bull Barry\n",
      "米荔\n",
      "yu hg\n",
      "柳逸尘\n",
      "顾煕照\n",
      "agbe\n",
      "吴小明\n",
      "Shinkou\n",
      "关卡琳\n",
      "黄拾尔\n",
      "Winnie Lei\n",
      "红头发\n",
      "匿名用户\n",
      "七区加里索斯\n",
      "张小琰\n",
      "便宜上白莲\n",
      "毛洪运\n",
      "luluOwO\n",
      "蔚小鹿\n",
      "展庆龙\n",
      "龚克\n",
      "副翼\n",
      "zcdll\n",
      "熊兔\n",
      "bookdogdoor\n",
      "风阳\n",
      "梅屋\n",
      "沈胤栋\n",
      "王丰\n",
      "Christian-Stark\n",
      "今夕流年\n",
      "陈智琳\n",
      "减小肥\n",
      "Israel Ken\n",
      "熊三\n",
      "倏逝波\n",
      "于正洋\n",
      "乃木坂在这里\n",
      "李竟\n",
      "Jw呀\n",
      "Charles Wu\n",
      "前田敦子\n",
      "江佳良\n",
      "匿名用户\n",
      "木偶先生ver\n",
      "匿名用户\n"
     ]
    }
   ],
   "source": [
    "for f in act.target.question.followers:\n",
    "    print(f.name)"
   ]
  },
  {
   "cell_type": "code",
   "execution_count": 286,
   "metadata": {
    "collapsed": false,
    "scrolled": true
   },
   "outputs": [
    {
     "name": "stdout",
     "output_type": "stream",
     "text": [
      "娱乐圈\n",
      "偶像\n",
      "SNH48\n",
      "鞠婧祎\n"
     ]
    }
   ],
   "source": [
    "#find topic\n",
    "for t in f.topics:\n",
    "    print (t.name)"
   ]
  },
  {
   "cell_type": "code",
   "execution_count": 268,
   "metadata": {
    "collapsed": false
   },
   "outputs": [
    {
     "name": "stdout",
     "output_type": "stream",
     "text": [
      "匿名用户\n",
      "1630\n",
      "Q：“为什么小鞠被称为4000年一遇，而不是百年一遇或千年一遇见呢？”A：“因为古巴比伦王颁布了汉谟拉比法典，刻在黑色得玄武岩，鞠婧祎三千七百多年”\n",
      "--------------------\n",
      "zero hzz\n",
      "53\n",
      "既然楼主是基于那两条新闻为出发点提问的，就先整理一下这次新闻的传播过程吧。<br><br>先说一下我个人的解读，这个话题的出现，比起理解为利用中日信息不对称从而出口转内销的一次宣（chao）传（zuo），我更相信这只是无心插柳柳成荫的一次偶然。<br><br>首先追根溯源，先说一下这个新闻的出处。目前能找到的是2ch上一个<b>11月03日</b>的串，至于来自哪个板也不重要，反正都是同一天开始传播就对了。这种标题党其实在贴吧之类的地方也不少见，所以一开始就丢了几张图估计也没什么回复就落掉了。<br><br><img src=\"http://pic2.zhimg.com/50/0a0dca0eaf808a0b74271c97e70c0a95_b.jpg\" data-rawwidth=\"1694\" data-rawheight=\"318\" class=\"origin_image zh-lightbox-thumb\" width=\"1694\" data-original=\"http://pic2.zhimg.com/50/0a0dca0eaf808a0b74271c97e70c0a95_r.jpg\">（2ch最早能找到的落串，有更早的出处请指正）<br><br>然而再沉寂了一周，又是一大波安利贴袭来，这次还带上了大量狂霸拽的前缀：【衝撃！】【画像大量】【爆 誕】，还叫上了“橋本環奈を超えた（之前热传的1000年一遇偶像）”这等鲜明的数字对比（4倍- - ），乡民和宅们的目光瞬时被吸引，并引发推特的相互奔告和搜索的小高潮。<br><br><img src=\"http://pic1.zhimg.com/50/ddecccf8b0e4d3cf7537c683b70fc018_b.jpg\" data-rawwidth=\"580\" data-rawheight=\"658\" class=\"origin_image zh-lightbox-thumb\" width=\"580\" data-original=\"http://pic1.zhimg.com/50/ddecccf8b0e4d3cf7537c683b70fc018_r.jpg\"><br>（于<b>11月12日</b>登上雅虎视频榜综合日榜第一）<br><br>然后就是出口转内销的过程了，首先是某些长期蹲着日本推特热门话题的段子手，运用他们阅读汉字高超的水平，把“中国で4000年に一人のアイドル（中国四千年一遇的偶像）”读成了“中国4000年第一美女”。咋一看好像没错，但仔细推敲这脑补空间可大了。因为“偶像”在中国娱乐圈内也不是十分成熟的职业分类，所以把鞠婧祎形容为难得一现的优质偶像这种说法是可以接受的，但“第一美女”这种翻译一出，就出现了诸如楼主的新闻链接里的那些奇怪部分了：<br><br><blockquote>近日有日本媒体评选中国第一美女，不过出人意料的是，最终夺冠的并非是范冰冰、章子怡等国际范老牌美女，而是新生代中国少女偶像团体SNH48的成员鞠婧祎。因此，鞠婧祎成为连续一周占据日本部分门户网站搜索第一的人物。<br></blockquote><br>章子怡，范冰冰躺着也中枪有木有！从头到尾根本没有出现过“评选”以及她们的名字，只是因为“第一美女”这个词媒体就自动脑补出了一场犹如选举般轰轰烈烈的日本全民投票了。<br><br><img src=\"http://pic4.zhimg.com/50/fe4d25e3799d01d5e94d0828e9a472eb_b.jpg\" data-rawwidth=\"580\" data-rawheight=\"103\" class=\"origin_image zh-lightbox-thumb\" width=\"580\" data-original=\"http://pic4.zhimg.com/50/fe4d25e3799d01d5e94d0828e9a472eb_r.jpg\"><p>（<b>11月13日</b>登上微博的实时热搜榜，成为热门话题）</p><br><br>然后根据历史的惯例，之后就是各大门户网站，网络媒体的争相报道了。这里还得解释一下第二个小G点，就是日本人认为的中国历史是4000年，是因为我国明确纪年的历史大约为4000年，也就是公元前21世纪的夏朝开始的。这也成为了评论增多的因素之一，毕竟审美观因人而异，历史观的不同就把对喷的空间上升到另一个层次了。<br><br><img src=\"http://pic2.zhimg.com/50/2e8552777166ddf3fe65785943401b61_b.jpg\" data-rawwidth=\"1314\" data-rawheight=\"1174\" class=\"origin_image zh-lightbox-thumb\" width=\"1314\" data-original=\"http://pic2.zhimg.com/50/2e8552777166ddf3fe65785943401b61_r.jpg\">（看到的新闻中最好笑的一条，误把团内其他成员的照片错认为小鞠整容前。团内第一段子手李艺彤有对此回应，具体详见：<a href=\"http://link.zhihu.com/?target=http%3A//www.weibo.com/3700233717/BwJoJ1jJc\" class=\" external\" target=\"_blank\" rel=\"nofollow noreferrer\"><span class=\"invisible\">http://www.</span><span class=\"visible\">weibo.com/3700233717/Bw</span><span class=\"invisible\">JoJ1jJc</span><span class=\"ellipsis\"></span><i class=\"icon-external\"></i></a>）<br><br><img src=\"http://pic2.zhimg.com/50/c271a9c977f98054008065e7698c9649_b.jpg\" data-rawwidth=\"1518\" data-rawheight=\"752\" class=\"origin_image zh-lightbox-thumb\" width=\"1518\" data-original=\"http://pic2.zhimg.com/50/c271a9c977f98054008065e7698c9649_r.jpg\">（图为“鞠婧祎”一词的百度指数，峰值是各大网站和地方媒体开始转发的<b>11月14日</b>）<br><br><img src=\"http://pic4.zhimg.com/50/80f103f0b68a3e0fa5929e2e5d2b28df_b.jpg\" data-rawwidth=\"440\" data-rawheight=\"658\" class=\"origin_image zh-lightbox-thumb\" width=\"440\" data-original=\"http://pic4.zhimg.com/50/80f103f0b68a3e0fa5929e2e5d2b28df_r.jpg\"><br>（<b>11月16日，</b>此话题开始登上报纸，图为南方都市报头条）<br><br>至于本人微博粉丝涨幅和这话题的后续报道就不再继续跟踪了，具体可以自己去搜索了解。虽然一开始我说这话题在日本的出现只是一次偶然，但在段子手开始转发后就有久尚（snh48运营公司）在背后推波助澜的痕迹了。就算不是久尚亲自参与“4000年第一美女”这个话题的推广，也多多少少有利用其话题性来提高知名度及宣传活动等。至于鞠婧祎本人，对此话题更多是避而不谈和一笑而过的态度。不过话题始终只是话题，虽然能在短时间内迅速提升知名度，但能否把外界的关注转换为有效的购买力就是运营方需要考虑的问题了。毕竟日本当时炒得纷纷扬扬的“千年一遇偶像”桥本环奈，其实剧场盘抽选三轮连一部都还没切（传言）。\n",
      "--------------------\n",
      "江佳良\n",
      "23\n",
      "国内媒体误传而已，日本原文是\"4000年一遇的偶像\"，也不是啥媒体评选，就是十一区某宅在2ch类似于贴吧的一个地方发了个串，后来被日本雅虎转载才大热。<br>因为中国还没有真正的偶像土壤，偶像的概念和明星其实有区别。到了中国就变成4000年一遇的美女了。<br>-----白石马云淡风清\n",
      "--------------------\n",
      "luluOwO\n",
      "4\n",
      "我记得说的是第一偶像 不知道怎么就变成美女了…\n",
      "--------------------\n",
      "熊三\n",
      "27\n",
      "------------------------------------------------15.02.02更新--------------------------------------------------<br><b>注：原问题为如何评价SNH48的鞠婧祎</b><br><br><br><br><br>更新一下答案。<br>前一阵机缘巧合和米娜的朋友喝了个下午茶。聊到这个话题。<br>“四千年”这件事情还真是和久尚没太大关系，光从官微等平台上基本没提及就可以感受到。<br>完全是日媒报道，然后国内的营销号觉得有爆点就扒来了……然后……给鞠婧祎吸了不少粉也招了不少黑。<br>就她个人来说对这件事情也有点无奈。从这个视频里也可以感受到。<br>可以理解。毕竟，抬头太大，动不动就被拉出来引仇恨。<br><br><a class=\"video-box\" href=\"http://link.zhihu.com/?target=http%3A//www.iqiyi.com/w_19rs02g8it.html\" target=\"_blank\">              <img class=\"thumbnail\" src=\"http://u7.qiyipic.com/image/20150201/dc/44/uv_4000907018_m_601_m0.jpg\"><span class=\"content\">                <span class=\"title\">【头条】SNH48鞠婧祎安徽卫视春晚玩雪遭记者调侃-_20150201<span class=\"z-ico-extern-gray\"></span><span class=\"z-ico-extern-blue\"></span></span>                <span class=\"url\"><span class=\"z-ico-video\"></span>http://www.iqiyi.com/w_19rs02g8it.html</span>              </span>            </a><br>------------------------------------------------15.02.02更新--------------------------------------------------<br><br>能够在知乎上看到这个问题说明这一次久尚的微博营销终于成功了。<br>鞠婧祎粉丝呼啦呼啦的飞涨。连带着其他成员和SNH官微。<br>不知道还有没有人记得，不久前也是生男孩家，出过一个新闻：【<a class=\" wrap external\" href=\"http://link.zhihu.com/?target=http%3A//huati.weibo.com/k/%25E4%25B8%25AD%25E5%259B%25BD%25E5%2581%25B6%25E5%2583%258F%25E5%25A5%25B3%25E5%259B%25A2%25E8%25A2%25AB%25E6%2589%2593%25E5%258E%258B%3Ffrom%3D501\" target=\"_blank\" rel=\"nofollow noreferrer\">#中国偶像女团被打压#<i class=\"icon-external\"></i></a><a href=\"http://link.zhihu.com/?target=http%3A//weibo.com/n/SNH48%3Ffrom%3Dfeed%26loc%3Dat\" class=\" wrap external\" target=\"_blank\" rel=\"nofollow noreferrer\">@SNH48<i class=\"icon-external\"></i></a> 最新MV<a class=\" wrap external\" href=\"http://link.zhihu.com/?target=http%3A//huati.weibo.com/k/UZA%3Ffrom%3D501\" target=\"_blank\" rel=\"nofollow noreferrer\">#UZA#<i class=\"icon-external\"></i></a>因女同性暗示在韩国禁播】 <a href=\"http://link.zhihu.com/?target=http%3A//weibo.com/2709577332/BrHNQ9P8X%3Ftype%3Dcomment\" class=\" wrap external\" target=\"_blank\" rel=\"nofollow noreferrer\">Sina Visitor System<i class=\"icon-external\"></i></a><br>结果不了了之，被绝大多数人都看出是炒作。<br>时隔不久，久尚学聪明了，哪里跌倒就从哪里爬起。<br><br>第一次看到这条新闻的时候就觉得应该能火一把。“日本评选、中国第一美女、四千年”，几乎都是引爆网民G点的词，万万没想到玩的这么大，各大门户都转载了，不少还放在了首页。<br><b>为了点击率你们也是蛮拼的啊喂！</b><br>咳，说回正题。<br>如何评价？<br>如果是指评价外貌和唱功等整体能力的话，<br>嗯，在整个SNH系里也算出类拔萃的了。<br>不然也不会出道没多久就给了一首solo曲。<br><a href=\"http://link.zhihu.com/?target=http%3A//www.iqiyi.com/v_19rrhd3gbw.html\" class=\" wrap external\" target=\"_blank\" rel=\"nofollow noreferrer\">SNH48 - 都是夜风惹的祸 广州演唱会现场版<i class=\"icon-external\"></i></a><br><br><br>如果光外貌。<br>男生喜欢女生讨厌的类型。<br><b>小男生看到了会忍不住有满满的保护欲。这大眼睛，人畜无害的盯着你，你会不想一把搂进怀里？</b><br>当然，<b>换做女生可能就变成“小婊砸你装什么白莲花扮什么无辜，狐狸精！”</b><br><img src=\"http://pic2.zhimg.com/50/810ef1a32e5337aec603a8608c992fd5_b.jpg\" data-rawwidth=\"446\" data-rawheight=\"503\" class=\"origin_image zh-lightbox-thumb\" width=\"446\" data-original=\"http://pic2.zhimg.com/50/810ef1a32e5337aec603a8608c992fd5_r.jpg\"><br><br>咳。玩笑话，姑娘们不要当真。<br><br>顺便。小鞠很聪明，很明白宅男喜欢看什么。<br>snh系里为数不多会<b>发腿/身材照</b>的姑娘之一。<br><img src=\"http://pic3.zhimg.com/50/782988fe3c4ef7375a5ebdf08a7d3ac6_b.jpg\" data-rawwidth=\"218\" data-rawheight=\"373\" class=\"content_image\" width=\"218\"><img src=\"http://pic1.zhimg.com/50/5f1c438a1c3940b23c1e83c60aaefdf0_b.jpg\" data-rawwidth=\"214\" data-rawheight=\"284\" class=\"content_image\" width=\"214\"><br><img src=\"http://pic3.zhimg.com/50/c187be2b1210afb21b3ba482e4ac4596_b.jpg\" data-rawwidth=\"210\" data-rawheight=\"350\" class=\"content_image\" width=\"210\"><br><br><br>综上所述。以久尚目前的资源倾斜来看，应该是<b>继退团的汤敏以后，新一位主推。</b><br>作为门面担当来看没什么大问题，但是目前的最大的短板还是给人觉得太高冷。队友评价”矮贵冷艳“。<br>而且“四千年第一美女”的抬头实在太大，非议一定不会少。<br>好在从这两天的微博来看，姑娘的心脏够大，是个可造之材。<br><br><br><b>只要不退团。</b>\n",
      "--------------------\n",
      "魁星\n",
      "3\n",
      "金闪闪收藏她原型了没有？\n",
      "--------------------\n",
      "便宜上白莲\n",
      "5\n",
      "这里分享个趣味NETA吧。<br><br>1、白石马云已经得到了PB和林B护佑，今年总选估计第一咯www<br>2、AKB48的岛崎遥香和NMB48的太田梦莉也已经开始在755表示菊花女神好美。<br><br>菊花盛世\n",
      "--------------------\n",
      "风阳\n",
      "3\n",
      "我觉得是个成功的值得肯定的豪不下限的炒作，希望再接在励\n",
      "--------------------\n",
      "Jw呀\n",
      "12\n",
      "<img src=\"http://pic2.zhimg.com/50/365e58126ed16939dd420602e0c7ce9d_b.jpg\" data-rawwidth=\"3095\" data-rawheight=\"2060\" class=\"origin_image zh-lightbox-thumb\" width=\"3095\" data-original=\"http://pic2.zhimg.com/50/365e58126ed16939dd420602e0c7ce9d_r.jpg\">昨晚见了真人，的确算是美女。但是4000年就有点夸张了。\n",
      "--------------------\n",
      "星光居士\n",
      "1\n",
      "题主不问这问题我都不认识她。\n",
      "--------------------\n",
      "匿名用户\n",
      "2\n",
      "93炒新闻从来没有下限，这种报道简直让人从身体上接受不了。\n",
      "--------------------\n",
      "优酱\n",
      "3\n",
      "炒作\n",
      "--------------------\n",
      "匿名用户\n",
      "4\n",
      "说真的，我觉得她侧脸不太好看。。感觉很奇怪\n",
      "--------------------\n",
      "年年\n",
      "2\n",
      "不知为什么中华5000年到日本就成4000年了…… \n",
      "--------------------\n",
      "李斌\n",
      "2\n",
      "见过1000年前的人长什么样吗？就4000年一遇\n",
      "--------------------\n",
      "JohnSmith\n",
      "2\n",
      "下面引自贴吧，作者hjj52351<br>当真是吹的飞起，读完如觉不适请轻喷，全当戏言就好。<br><br>川蜀有佳人<br>绝世而独立<br>一顾倾人城<br>再顾倾人国<br>华夏以降一<br>千年得秋水明眸顾盼沉鱼之美<br>千年得林籁泉韵袅袅落雁之音<br>千年得蛾眉皓齿谈笑闭月之容<br>千年得冰肌玉骨俯拾羞花之貌<br>此谓之四千年一遇也<br><br>写得的确很有味，但吹的我也是看完一身汗，到底多美也是纯看个人喜恶，这段供大家娱乐随便看看。<img data-rawwidth=\"1147\" data-rawheight=\"1149\" src=\"http://pic2.zhimg.com/50/edfe7778b93d7cc9a8c43094e4d57ded_b.jpeg\" class=\"origin_image zh-lightbox-thumb\" width=\"1147\" data-original=\"http://pic2.zhimg.com/50/edfe7778b93d7cc9a8c43094e4d57ded_r.jpeg\">\n",
      "--------------------\n",
      "苏绣嘉\n",
      "2\n",
      "翻了下评论似乎已经解释的很清楚了？<br>只是炒作而已，原意是“中国四千年终于出了一个适合当偶像的女孩呀”~<br>国内偶像文化才起步多久？233又有几个符合11区审美的组合？比如SNH48。<br>说起来根本就没有任何可比性，还扯啥古代美女orz就SNH48本身来说，团狗表示小鞠确实是位不可多得的偶像，无论是本人的歌舞素质还是身为偶像的觉悟都非常非常棒。<br>总之她完全担得起“偶像”这个称号。\n",
      "--------------------\n",
      "黄拾尔\n",
      "1\n",
      "虽然是美女，但是四千年实在是夸张了。总的来说还是噱头吧。\n",
      "--------------------\n",
      "面朝大海\n",
      "0\n",
      "是真的！！！<br>因为古巴比伦颁布了汉谟拉比法典，刻在黑色的玄武岩，鞠婧祎经三千七八多年。。。。\n",
      "--------------------\n",
      "张家庄\n",
      "0\n",
      "这个意思是说4000年前有比她漂亮的咯\n",
      "--------------------\n",
      "谢磊\n",
      "0\n",
      "说的跟见过从4000年前到150年前的人似的……\n",
      "--------------------\n",
      "大土豆\n",
      "0\n",
      "看日综久了，任何一个参加综艺的演员都是用“顶级的芸能人”介绍的，某某食物都是“全国第一的xxx”，各种看似平凡人都是“全国xx比赛第一名”，还经常评选“第一美少女”…感觉，这种第一第一的比赛很多，也精彩夸大头衔哦\n",
      "--------------------\n",
      "洪文太\n",
      "0\n",
      "我一直坚信吹的越凶实力越空的道理\n",
      "--------------------\n",
      "南北\n",
      "0\n",
      "记得去年国内也有类似的报道，标题大概是这样 <br>厦门大学千年一遇的大四漂亮学姐？？<br>标题党罢了，炒作手法就跟小孩子吵架一样\n",
      "--------------------\n",
      "匿名用户\n",
      "0\n",
      "小鞠：你叫我四千年，问过我的意见了吗！<br>记得我在哪里看见过一个视频\n",
      "--------------------\n",
      "围观路过xtm\n",
      "0\n",
      "公司出口转内销的炒作只为捧红她\n",
      "--------------------\n",
      "蒋大雄\n",
      "0\n",
      "小鞠是4000年第一偶像，不了解的可以去看看SNH48 N队的公演，你就知道为什么那么多人喜欢了，不只是因为好看\n",
      "--------------------\n",
      "陈智琳\n",
      "0\n",
      "日本2CH上死宅先是谈起，后来是到YAHOO检索第一位，然后顺手久尚这次学会了给自己做个营销，虽然可能鞠婧祎的真实的粉丝数量不会有增长，但起码已经有人认识到了“SNH48”这个团体，也认识了这个团体里有“鞠婧祎”这个人。有点像我党刚开始的时候让一部分人先富起来然后带动其他人这样的感觉.......现在个人的名气还是其次，最最主要的是让人知道有“SNH48”。<br><br>久尚就是不舍得扔资源，怕出第二个汤敏。作为郡骑我当然希望把资源扔给SAVO了啊。\n",
      "--------------------\n",
      "Charles Wu\n",
      "0\n",
      "原标题是“中国4000年偶像第一人”<br>然后传来传去就变成“中国4000年一遇的美女”<br><br>额 后面的东西我就不用说了。。。\n",
      "--------------------\n",
      "匿名用户\n",
      "0\n",
      "毕竟海外48group\n",
      "--------------------\n",
      "匿名用户\n",
      "0\n",
      "人靠衣装，马靠鞍。 美女主要靠PS，4000年靠多次PS。<img src=\"http://pic4.zhimg.com/50/1000b4a0ee3d80df3ed7263f7b06b0eb_b.jpg\" data-rawwidth=\"527\" data-rawheight=\"531\" class=\"origin_image zh-lightbox-thumb\" width=\"527\" data-original=\"http://pic4.zhimg.com/50/1000b4a0ee3d80df3ed7263f7b06b0eb_r.jpg\">\n",
      "--------------------\n",
      "随便取个好了\n",
      "0\n",
      "前段时间又出了一个新的4000年美少女 而且还是snh48里的 <br>我赌五毛是炒作\n",
      "--------------------\n",
      "李竟\n",
      "0\n",
      "怎么说呢，在我看来，日本网友的评论虽有夸张的水分，但是看到鞠婧祎的写真照片还是眼前一亮，绝对的小清新哪。不信你看！<a href=\"http://link.zhihu.com/?target=http%3A//news.qiuyi120.com/xwtk/nsex/48061_1.html\" class=\" wrap external\" target=\"_blank\" rel=\"nofollow noreferrer\">鞠婧祎个人写真集<i class=\"icon-external\"></i></a>\n",
      "--------------------\n"
     ]
    }
   ],
   "source": [
    "#find all answers\n",
    "for a in f.answers:\n",
    "    print(a.author.name)\n",
    "    print(a.voteup_count)\n",
    "    print(a.content)\n",
    "    print(\"-\"*20)"
   ]
  },
  {
   "cell_type": "code",
   "execution_count": 258,
   "metadata": {
    "collapsed": false
   },
   "outputs": [
    {
     "data": {
      "text/plain": [
       "26615372"
      ]
     },
     "execution_count": 258,
     "metadata": {},
     "output_type": "execute_result"
    }
   ],
   "source": [
    "me.activities[0].target.question.id"
   ]
  },
  {
   "cell_type": "code",
   "execution_count": 295,
   "metadata": {
    "collapsed": false
   },
   "outputs": [
    {
     "name": "stdout",
     "output_type": "stream",
     "text": [
      "2333333这个梗好\n",
      "哈哈哈哈哈哈哈无法反驳\n",
      "卧槽！谁想出来的！\n",
      "角度刁钻\n",
      "聚聚我就想告诉你我把你的回答截图发微博之后，现在我的微博已经被哈哈哈哈轰炸了，你要负责。\n",
      "从微博笑得过来点赞hhh  热评第一也说得很好\n",
      "请收下我的膝盖\n",
      "从朋友空间火速赶来\n",
      "我搬到贴吧去了，虽然你匿名了，还是觉得应该通知你\n",
      "啊哈哈哈哈哈哈哈哈\n",
      "哈哈哈\n",
      "笑点在哪？你们好奇怪哦。\n",
      "距今已三千七百多年\n",
      "所以千年以后，大预言家就从李白改为我大杰伦了？\n",
      "原来不会读她的名字，现在会了。\n",
      " 逼\n",
      "然而文山早已经看穿了一切\n",
      "蛤蛤\n",
      "2333\n",
      "我特么居然唱出来了…\n",
      "你在橱窗前，凝视碑文的字眼\n",
      "厉害喔！\n",
      "实力正名\n",
      "这个梗玩的好\n",
      "膜拜\n",
      "笑尿了，答主机智！！！！！\n",
      "怎么想到的…\n",
      "佩服\n",
      "今天用到了！\n",
      "\\(^o^)/ 哈哈哈哈哈哈哈哈哈\n",
      "哈哈哈。这个角度\n",
      "233333太机智了\n",
      "取消匿名肯定有大量粉丝关注\n",
      "小鞠公演mc都用这个梗了哈哈哈哈\n",
      "费着流量也要赞一下\n",
      "服！！！\n",
      "服\n",
      "神人\n",
      "好吧！我看不懂\n",
      "holy high！\n",
      "微博过来点赞\n",
      "这是周杰伦歌词，原本后面一句是“距今已三千七百多年”，“距今已”三个字的谐音就是“鞠婧祎”\n",
      "四舍五入就是一个亿啊\n",
      "要是能从来，我要选杰伦是嘛\n",
      "这么好的答案为什么要匿名\n",
      "卧槽，角度刁钻啊，佩服\n",
      "接受我的膝盖\n",
      "哈哈哈\n",
      "然而周杰伦早已预言了一切\n",
      "竟然一本正经读完了。。。。杰伦成李白\n",
      "2333\n",
      "233333\n",
      "有道理\n",
      "太棒啦哈哈哈哈哈哈哈！！！\n",
      "肚子笑爆了，赔。(ಥ_ಥ)\n",
      "终于能够正确地读出这名字了\n",
      "有一种伏笔揭开的感觉！！！！\n",
      "。。。。。。\n",
      "哈哈哈哈哈哈哈\n",
      "666\n",
      "回去听了歌后会念名字了\n",
      "好有血性的梗。笑叉气了。哈哈哈哈哈哈\n",
      "祎字读作yi（同音：衣）而不是wei。我一个同学名字里有这个字。但是这个段子我还是笑了233\n",
      "妈的我可以狗带了，在看到你这个谐音梗之前我一直叫她鞠婧伟，跟人讨论也鞠婧伟鞠婧伟得，丢死人了\n",
      "答主自己想到的？！膜拜！\n",
      "500年后杰伦成了预言家\n",
      "2333333\n",
      "薄荷？第一次是在A站看到这个梗，没想到是你编的\n",
      "不忍心破坏666的赞数 \n",
      "太机智了\n",
      "这个叼\n",
      "唱出来了( •̀∀•́ )\n",
      "竟然毫无违和的唱出来了_(•̀ω•́ 」∠)_\n",
      "感谢楼主。我发现我原来一直念错了她的名字（羞羞脸）\n",
      "这回答我给满分\n",
      "擦，居然唱起来了\n",
      "哪期公演？\n",
      "最右\n",
      "具体想不起来了，反正是我的太阳，大概在11、12月\n",
      "三十岁就可以了！\n",
      "哈哈哈哈忽然懂了\n",
      "哈哈哈红红火火恍恍惚惚\n",
      "哈哈哈\n",
      "你在橱窗前，凝视碑文的字眼，我却在旁紧紧欣赏你那张我深爱的脸\n",
      "杰伦粉已笑抽…\n",
      "看了好几遍才明白这个梗\n",
      "哈哈哈！！！\n",
      "鞠婧祎==距今已  不错不错\n",
      "见笑了…\n",
      "终于会读这三个字了\n",
      "原来是这样\n",
      "SNH话题下首破千赞！<br><br><br><br><br><br><br><br><br>居然是这种回答，知乎药丸！\n",
      "祝贺赞数破千\n",
      "是在下输了\n",
      "哈哈哈哈哈哈哈，感天动地\n",
      "哈哈哈，阿黄在MC讲过这个梗\n",
      "会玩\n",
      "牛逼，我鞠\n",
      "答案里就是yi，已，祎都是yi，没有人读wei\n",
      "23333334\n",
      "我服！\n",
      "好好的话，为什么我要唱出来。\n",
      "…666\n",
      "。。\n",
      "虽然想不自觉的唱出来，但是咬字实在太难，我好像理解了周董被认为咬字不清的痛苦...\n",
      "卧槽  会玩\n",
      "自问自答的炒作，不管怎样还是蛮有意思的哈哈\n",
      "你知道，我作为一个粉丝，是多长时间理解这个梗的吗？    半年        这个回答到发酵起来整整用了一年\n",
      "我入坑当天刚好看到了这个梗，然后秒懂233\n",
      "我伦实力预言……\n",
      "我不太听周董的歌！\n",
      "冷……\n",
      "以后去唱K无法直视这首歌了\n",
      "害得我特地听了遍西元前\n",
      "\n",
      "大写的服...\n",
      "没看懂。。。\n",
      "哈哈哈哈秒懂666666\n",
      "<a href=\"http://www.zhihu.com/people/dde8591928ed23aff70d0be8bef854a9\" data-hash=\"dde8591928ed23aff70d0be8bef854a9\" class=\"member_mention\" data-tip=\"p$b$dde8591928ed23aff70d0be8bef854a9\">@企鹅乡乡长</a>\n",
      "大写的服！\n",
      "受不了\n",
      "6666666周董发来贺电\n",
      "2333\n",
      "是你教会了我读这三个字o&gt;_\n",
      "黄副队实力借用\n",
      "666\n",
      "我终于认识这四个字了\n",
      "不是三个吗\n",
      "啊？哦～\n",
      "看几遍才懂，哈哈，距今已=鞠婧祎\n",
      "虽然匿名，但是可以转吗？\n",
      "如此机智\n",
      "我服我服\n",
      "一个北方人读了好几遍才明白其中的梗～\n",
      "妈蛋！唱出来了！\n",
      "666666\n",
      "66666\n",
      "我服\n",
      "哈哈哈哈！\n",
      "本来我不知道这个名字怎么读的……现在知道了，谢谢答主哦\n",
      "周杰伦《爱在西元前》\n",
      "聚聚是？？\n"
     ]
    }
   ],
   "source": [
    "#find all comments in first answer\n",
    "for c in act.target.question.answers[0].comments:\n",
    "    print (c.content)"
   ]
  },
  {
   "cell_type": "code",
   "execution_count": 305,
   "metadata": {
    "collapsed": false
   },
   "outputs": [
    {
     "ename": "NameError",
     "evalue": "name '_session' is not defined",
     "output_type": "error",
     "traceback": [
      "\u001b[1;31m\u001b[0m",
      "\u001b[1;31mNameError\u001b[0mTraceback (most recent call last)",
      "\u001b[1;32m<ipython-input-305-ddf660a0c712>\u001b[0m in \u001b[0;36m<module>\u001b[1;34m()\u001b[0m\n\u001b[1;32m----> 1\u001b[1;33m \u001b[0mq\u001b[0m \u001b[1;33m=\u001b[0m \u001b[0mQuestion\u001b[0m\u001b[1;33m(\u001b[0m\u001b[1;34m\"45051358\"\u001b[0m\u001b[1;33m,\u001b[0m\u001b[1;32mNone\u001b[0m\u001b[1;33m,\u001b[0m\u001b[0m_session\u001b[0m\u001b[1;33m)\u001b[0m\u001b[1;33m\u001b[0m\u001b[0m\n\u001b[0m",
      "\u001b[1;31mNameError\u001b[0m: name '_session' is not defined"
     ]
    }
   ],
   "source": [
    "q = Question(\"45051358\",None,_session)"
   ]
  },
  {
   "cell_type": "code",
   "execution_count": 303,
   "metadata": {
    "collapsed": false
   },
   "outputs": [
    {
     "ename": "AttributeError",
     "evalue": "'str' object has no attribute 'request'",
     "output_type": "error",
     "traceback": [
      "\u001b[1;31m\u001b[0m",
      "\u001b[1;31mAttributeError\u001b[0mTraceback (most recent call last)",
      "\u001b[1;32m<ipython-input-303-07d41b0fb706>\u001b[0m in \u001b[0;36m<module>\u001b[1;34m()\u001b[0m\n\u001b[1;32m----> 1\u001b[1;33m \u001b[0mq\u001b[0m\u001b[1;33m.\u001b[0m\u001b[0mtitle\u001b[0m\u001b[1;33m\u001b[0m\u001b[0m\n\u001b[0m",
      "\u001b[1;32mC:\\Python34\\lib\\site-packages\\zhihu_oauth\\zhcls\\normal.py\u001b[0m in \u001b[0;36mwrapper\u001b[1;34m(self, *args, **kwargs)\u001b[0m\n\u001b[0;32m     57\u001b[0m                     \u001b[1;32mreturn\u001b[0m \u001b[0mfunc\u001b[0m\u001b[1;33m(\u001b[0m\u001b[0mself\u001b[0m\u001b[1;33m,\u001b[0m \u001b[1;33m*\u001b[0m\u001b[0margs\u001b[0m\u001b[1;33m,\u001b[0m \u001b[1;33m**\u001b[0m\u001b[0mkwargs\u001b[0m\u001b[1;33m)\u001b[0m\u001b[1;33m\u001b[0m\u001b[0m\n\u001b[0;32m     58\u001b[0m \u001b[1;33m\u001b[0m\u001b[0m\n\u001b[1;32m---> 59\u001b[1;33m                 \u001b[0mself\u001b[0m\u001b[1;33m.\u001b[0m\u001b[0m_get_data\u001b[0m\u001b[1;33m(\u001b[0m\u001b[1;33m)\u001b[0m\u001b[1;33m\u001b[0m\u001b[0m\n\u001b[0m\u001b[0;32m     60\u001b[0m                 \u001b[1;31m# noinspection PyTypeChecker\u001b[0m\u001b[1;33m\u001b[0m\u001b[1;33m\u001b[0m\u001b[0m\n\u001b[0;32m     61\u001b[0m                 \u001b[1;32mif\u001b[0m \u001b[0mself\u001b[0m\u001b[1;33m.\u001b[0m\u001b[0m_data\u001b[0m\u001b[1;33m:\u001b[0m\u001b[1;33m\u001b[0m\u001b[0m\n",
      "\u001b[1;32mC:\\Python34\\lib\\site-packages\\zhihu_oauth\\zhcls\\base.py\u001b[0m in \u001b[0;36m_get_data\u001b[1;34m(self)\u001b[0m\n\u001b[0;32m     55\u001b[0m         \u001b[1;32mif\u001b[0m \u001b[0mself\u001b[0m\u001b[1;33m.\u001b[0m\u001b[0m_data\u001b[0m \u001b[1;32mis\u001b[0m \u001b[1;32mNone\u001b[0m\u001b[1;33m:\u001b[0m\u001b[1;33m\u001b[0m\u001b[0m\n\u001b[0;32m     56\u001b[0m             \u001b[0murl\u001b[0m \u001b[1;33m=\u001b[0m \u001b[0mself\u001b[0m\u001b[1;33m.\u001b[0m\u001b[0m_build_url\u001b[0m\u001b[1;33m(\u001b[0m\u001b[1;33m)\u001b[0m\u001b[1;33m\u001b[0m\u001b[0m\n\u001b[1;32m---> 57\u001b[1;33m             res = self._session.request(\n\u001b[0m\u001b[0;32m     58\u001b[0m                 \u001b[0mself\u001b[0m\u001b[1;33m.\u001b[0m\u001b[0m_method\u001b[0m\u001b[1;33m(\u001b[0m\u001b[1;33m)\u001b[0m\u001b[1;33m,\u001b[0m\u001b[1;33m\u001b[0m\u001b[0m\n\u001b[0;32m     59\u001b[0m                 \u001b[0murl\u001b[0m\u001b[1;33m=\u001b[0m\u001b[0murl\u001b[0m\u001b[1;33m,\u001b[0m\u001b[1;33m\u001b[0m\u001b[0m\n",
      "\u001b[1;31mAttributeError\u001b[0m: 'str' object has no attribute 'request'"
     ]
    }
   ],
   "source": [
    "q.title"
   ]
  },
  {
   "cell_type": "code",
   "execution_count": 308,
   "metadata": {
    "collapsed": false
   },
   "outputs": [],
   "source": [
    "#get specific question\n",
    "question = client.question(45051358)"
   ]
  },
  {
   "cell_type": "code",
   "execution_count": 309,
   "metadata": {
    "collapsed": false
   },
   "outputs": [
    {
     "data": {
      "text/plain": [
       "'黄婷婷距离御三家有多少距离？'"
      ]
     },
     "execution_count": 309,
     "metadata": {},
     "output_type": "execute_result"
    }
   ],
   "source": [
    "question.title"
   ]
  },
  {
   "cell_type": "code",
   "execution_count": 315,
   "metadata": {
    "collapsed": false
   },
   "outputs": [
    {
     "data": {
      "text/plain": [
       "'婷婷今年有机会冲击前三吗，甚至登顶呢？'"
      ]
     },
     "execution_count": 315,
     "metadata": {},
     "output_type": "execute_result"
    }
   ],
   "source": [
    "question.detail"
   ]
  },
  {
   "cell_type": "code",
   "execution_count": 318,
   "metadata": {
    "collapsed": false
   },
   "outputs": [
    {
     "name": "stdout",
     "output_type": "stream",
     "text": [
      "匿名提这种无意义的引战问题合适吗，已举报。\n",
      "根据我的经验，举报没有用。。\n",
      "那么很想请问一下您提这个问题的意义何在？\n"
     ]
    }
   ],
   "source": [
    "for c in question.comments:\n",
    "    print(c.content)"
   ]
  },
  {
   "cell_type": "code",
   "execution_count": 323,
   "metadata": {
    "collapsed": false
   },
   "outputs": [
    {
     "name": "stdout",
     "output_type": "stream",
     "text": [
      "洪耀东\n",
      "84\n",
      "看这种题目真的真的难受，<br><br>抱歉，拿婷婷开刀了。<br><imgsrc=\"http://pic3.zhimg.com/50/9d07caf7da1d99e6ab6f29f4f8be505e_b.png\"data-rawwidth=\"440\"data-rawheight=\"704\"class=\"origin_imagezh-lightbox-thumb\"width=\"440\"data-original=\"http://pic3.zhimg.com/50/9d07caf7da1d99e6ab6f29f4f8be505e_r.png\">这是去年总选票数:<br><br>李艺彤:47134.5票，<br>黄婷婷:35189票，<br><br>二人票数相差11945.5票，<br><br>以35元一票的价格，相差在418092.5元。<br>换算为纸币:共百元纸币4180张，十元纸币9张，一元硬币两枚，五角硬币一枚。（不要问我一元五角为什么用硬币）<br><br>老版100元人民币单张长度155mm，宽度77mm，厚度0.11mm。<br>那么，4180张100元纸币<br><br>叠一起厚度为:<br>459.8mm，合0.4598m<br><br>横向连接长度为:<br>647900mm，合647.9m<br><br>纵向连接长度为:<br>321860mm，合321.86m<br><br>十元纸币长度为140mm，宽度为70mm，厚度为0.1mm。<br><br>9张十元纸币叠一起厚度为:<br><br>0.9mm，合0.009m，<br><br>横向连接长度为:<br>1260mm，合1.26m<br><br>纵向连接长度为:<br>630mm，合0.63m<br><br>一元硬币直径25mm，厚度1.85mm。<br><br>两枚一元硬币叠一起厚度为:<br>3.7mm，合0.0037m<br><br>连接长度为:<br>50mm，合0.05m<br><br><br>五角硬币直径20.5mm，厚度为1.65mm<br><br>综上，第二届总选结果显示，黄婷婷距离御三家距离如下:<br><br>1.叠起来:<br>0.4598+0.009+0.0037+0.00165=0.47415m<br><br>2.横向连接起来:<br>647.9+1.26+0.005+0.00205=649.16705m<br><br>3.纵向连接起来:<br>321.86+0.63+0.005+0.00205=322.49705m<br><br><br>距离清楚了吗？<br><br><imgsrc=\"http://pic3.zhimg.com/50/fca64c055d291fd6a8f6f834307f2286_b.png\"data-rawwidth=\"600\"data-rawheight=\"337\"class=\"origin_imagezh-lightbox-thumb\"width=\"600\"data-original=\"http://pic3.zhimg.com/50/fca64c055d291fd6a8f6f834307f2286_r.png\">\n",
      "----------------------------------------------------------------------------------------------------\n",
      "一一\n",
      "9\n",
      "就差题主十万票了=L=节奏太差\n",
      "----------------------------------------------------------------------------------------------------\n",
      "昝世靖\n",
      "8\n",
      "我在想小四进神七，会长进前五，阿黄进御三家，不是说不可能，但是我真想问一句，这都什么zz问题啊ˊ_&gt;ˋ，一定要来知乎问么，不管你是哪家，为了你的推好，你就不能好好投票么？\n",
      "----------------------------------------------------------------------------------------------------\n",
      "我好害怕\n",
      "2\n",
      "yjgj，虽然黄推女饭多，韩饭多，但是离卡骑还是有差距的。<br><br>因为，卡骑里面不光有不亚于黄推战斗力的女饭和韩饭，而且泛人气比htt高很多。虽然你黄综艺一个接一个，但是这些都还没有开播，在开播之前发卡的泛人气处于绝对领先，这从微博粉丝数量就能反映出来。<br><br>更新：<br>黄推节奏感不如阿黄，建议向阿黄学习如何带节奏\n",
      "----------------------------------------------------------------------------------------------------\n",
      "花歆蓝\n",
      "0\n",
      "看日常的微博存在感各种新闻之类下面的热转热评，安利之类，已经不逊于另外三家。个人微博经营得一般，但是也还是人气不错。<br>现在差的就是肾！肾！肾！\n",
      "----------------------------------------------------------------------------------------------------\n",
      "220yeye\n",
      "0\n",
      "从微博粉丝数来说，离第三差50万粉丝，更别说前两位了\n",
      "----------------------------------------------------------------------------------------------------\n",
      "薛雪\n",
      "0\n",
      "匿名用户带节奏的←_←\n",
      "----------------------------------------------------------------------------------------------------\n",
      "zhang\n",
      "0\n",
      "没有距离，直接投票吧\n",
      "----------------------------------------------------------------------------------------------------\n",
      "gaojian\n",
      "3\n",
      "你这是来撕卡黄的吧\n",
      "----------------------------------------------------------------------------------------------------\n",
      "哈哈哈\n",
      "0\n",
      "4-3=1\n",
      "----------------------------------------------------------------------------------------------------\n",
      "其实我是暖色调\n",
      "0\n",
      "这种预测没有用，这节奏0分。<br>有这功夫，有钱的去投票，没钱的去安利。都不想干的，安心饭偶像，过好自己的生活去。\n",
      "----------------------------------------------------------------------------------------------------\n",
      "匿名用户\n",
      "1\n",
      "差一套房\n",
      "----------------------------------------------------------------------------------------------------\n",
      "匿名用户\n",
      "0\n",
      "登顶有的一拼\n",
      "----------------------------------------------------------------------------------------------------\n",
      "黄睿\n",
      "0\n",
      "就不能好好给你推投票么带什么节奏\n",
      "----------------------------------------------------------------------------------------------------\n",
      "AITeaor\n",
      "0\n",
      "至少今年没可能，一点可能都没有。要是非要进的话，就差题主十万票了\n",
      "----------------------------------------------------------------------------------------------------\n",
      "爆炸的拳头\n",
      "0\n",
      "知名度和泛人气差着鞠婧祎大着<br>粉丝的执行力差赵嘉敏一截<br>不带节奏的话，就这么多\n",
      "----------------------------------------------------------------------------------------------------\n"
     ]
    }
   ],
   "source": [
    "for a in question.answers:\n",
    "    print(a.author.name)\n",
    "    print(a.voteup_count)\n",
    "#    print(a.content)\n",
    "    print(''.join(a.content.split()))\n",
    "    print(\"--\"*50)"
   ]
  }
 ],
 "metadata": {
  "kernelspec": {
   "display_name": "Python 3",
   "language": "python",
   "name": "python3"
  },
  "language_info": {
   "codemirror_mode": {
    "name": "ipython",
    "version": 3
   },
   "file_extension": ".py",
   "mimetype": "text/x-python",
   "name": "python",
   "nbconvert_exporter": "python",
   "pygments_lexer": "ipython3",
   "version": "3.4.3"
  }
 },
 "nbformat": 4,
 "nbformat_minor": 0
}
