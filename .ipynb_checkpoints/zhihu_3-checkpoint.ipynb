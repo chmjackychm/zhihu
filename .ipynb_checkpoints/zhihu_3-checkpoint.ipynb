{
 "cells": [
  {
   "cell_type": "code",
   "execution_count": null,
   "metadata": {
    "collapsed": true
   },
   "outputs": [],
   "source": [
    "# from zhihu_oauth import ZhihuClient\n",
    "# from zhihu_oauth.exception import NeedCaptchaException\n",
    "# client = ZhihuClient()\n",
    "# email = \"chmjackychm@gmail.com\"\n",
    "# pw = \"\"\n",
    "# client.login_in_terminal(email,pw)\n",
    "#client.save_token('token.pk1')"
   ]
  },
  {
   "cell_type": "code",
   "execution_count": 164,
   "metadata": {
    "collapsed": true
   },
   "outputs": [],
   "source": [
    "import pandas as pd\n",
    "import numpy as np"
   ]
  },
  {
   "cell_type": "code",
   "execution_count": 165,
   "metadata": {
    "collapsed": true
   },
   "outputs": [],
   "source": [
    "from __future__ import unicode_literals, print_function\n",
    "import os\n",
    "from zhihu_oauth import ZhihuClient\n",
    "from zhihu_oauth.zhcls.activity import ActType"
   ]
  },
  {
   "cell_type": "code",
   "execution_count": 166,
   "metadata": {
    "collapsed": true
   },
   "outputs": [],
   "source": [
    "client = ZhihuClient()\n",
    "client.load_token('token.pk1')"
   ]
  },
  {
   "cell_type": "code",
   "execution_count": 51,
   "metadata": {
    "collapsed": true
   },
   "outputs": [],
   "source": [
    "me = client.me()"
   ]
  },
  {
   "cell_type": "code",
   "execution_count": 74,
   "metadata": {
    "collapsed": false
   },
   "outputs": [],
   "source": [
    "# for p in me.followers:\n",
    "#     print(p.name)"
   ]
  },
  {
   "cell_type": "code",
   "execution_count": 53,
   "metadata": {
    "collapsed": false
   },
   "outputs": [],
   "source": [
    "# for p in me.followings:\n",
    "#     print(p.name)"
   ]
  },
  {
   "cell_type": "code",
   "execution_count": 189,
   "metadata": {
    "collapsed": true
   },
   "outputs": [],
   "source": [
    "me_question_following = [act.target.title for act in me.activities if act.type == \"FOLLOW_QUESTION\"]\n",
    "me_question_votedup = [act.target.question.title for act in me.activities if act.type == \"VOTEUP_ANSWER\"]"
   ]
  },
  {
   "cell_type": "code",
   "execution_count": 190,
   "metadata": {
    "collapsed": true
   },
   "outputs": [],
   "source": [
    "me_dict = dict(following = np.array(me_question_following),voteup = np.array(me_question_votedup))\n",
    "me_dict_df = pd.DataFrame.from_dict(me_dict,orient = 'index')"
   ]
  },
  {
   "cell_type": "code",
   "execution_count": 167,
   "metadata": {
    "collapsed": false
   },
   "outputs": [],
   "source": [
    "wxd = me.followers[0]\n",
    "lh = me.followers[1]"
   ]
  },
  {
   "cell_type": "code",
   "execution_count": 55,
   "metadata": {
    "collapsed": false
   },
   "outputs": [],
   "source": [
    "lh_following = [p.name for p in lh.followings]\n",
    "wxd_following = [p.name for p in wxd.followings]"
   ]
  },
  {
   "cell_type": "code",
   "execution_count": 56,
   "metadata": {
    "collapsed": true
   },
   "outputs": [],
   "source": [
    "lh_followers = [p.name for p in lh.followers]\n",
    "wxd_followers = [p.name for p in wxd.followers]"
   ]
  },
  {
   "cell_type": "code",
   "execution_count": 57,
   "metadata": {
    "collapsed": false
   },
   "outputs": [],
   "source": [
    "lh_following_df = pd.DataFrame(lh_following)\n",
    "lh_following_df.columns = [\"LH's following\"]\n",
    "\n",
    "lh_followers_df = pd.DataFrame(lh_followers)\n",
    "lh_followers_df.columns = [\"LH's followers\"]\n",
    "\n",
    "wxd_following_df = pd.DataFrame(wxd_following)\n",
    "wxd_following_df.columns = [\"WXD's following\"]\n",
    "\n",
    "wxd_followers_df = pd.DataFrame(wxd_followers)\n",
    "wxd_followers_df.columns = [\"WXD's followers\"]"
   ]
  },
  {
   "cell_type": "code",
   "execution_count": 136,
   "metadata": {
    "collapsed": false
   },
   "outputs": [],
   "source": [
    "writer = pd.ExcelWriter(\"zhihu.xlsx\")\n",
    "\n",
    "lh_following_df.to_excel(writer,'lh following',index=False)\n",
    "lh_followers_df.to_excel(writer,'lh followers',index=False)\n",
    "\n",
    "wxd_following_df.to_excel(writer,'wxd following',index=False)\n",
    "wxd_followers_df.to_excel(writer,'wxd followers',index=False)\n",
    "writer.close()\n"
   ]
  },
  {
   "cell_type": "code",
   "execution_count": 75,
   "metadata": {
    "collapsed": false
   },
   "outputs": [
    {
     "data": {
      "text/plain": [
       "189"
      ]
     },
     "execution_count": 75,
     "metadata": {},
     "output_type": "execute_result"
    }
   ],
   "source": [
    "lh.answer_count"
   ]
  },
  {
   "cell_type": "code",
   "execution_count": 76,
   "metadata": {
    "collapsed": false
   },
   "outputs": [
    {
     "data": {
      "text/plain": [
       "2735"
      ]
     },
     "execution_count": 76,
     "metadata": {},
     "output_type": "execute_result"
    }
   ],
   "source": [
    "lh.voteup_count"
   ]
  },
  {
   "cell_type": "code",
   "execution_count": 108,
   "metadata": {
    "collapsed": false
   },
   "outputs": [],
   "source": [
    "act1 = lh.activities[1]\n",
    "act2 = lh.activities[2]"
   ]
  },
  {
   "cell_type": "code",
   "execution_count": 114,
   "metadata": {
    "collapsed": false
   },
   "outputs": [
    {
     "name": "stdout",
     "output_type": "stream",
     "text": [
      "type is: FOLLOW_QUESTION\n",
      "type is: VOTEUP_ANSWER\n"
     ]
    }
   ],
   "source": [
    "print( 'type is: ' + act1.type)\n",
    "print('type is: ' + act2.type)"
   ]
  },
  {
   "cell_type": "code",
   "execution_count": 120,
   "metadata": {
    "collapsed": false
   },
   "outputs": [],
   "source": [
    "# question_following = []\n",
    "# question_votedup = []\n",
    "# for act in lh.activities:\n",
    "#     if act.type == \"FOLLOW_QUESTION\":\n",
    "# #        print(act.target.title)\n",
    "#         question_following.append(act.target.title)\n",
    "#     elif act.type == \"VOTEUP_ANSWER\":\n",
    "# #        print(act.target.question.title)\n",
    "#         question_votedup.append(act.target.question.title)\n",
    "#     else:\n",
    "#         continue"
   ]
  },
  {
   "cell_type": "code",
   "execution_count": 169,
   "metadata": {
    "collapsed": false
   },
   "outputs": [],
   "source": [
    "lh_question_following = [act.target.title for act in lh.activities if act.type == \"FOLLOW_QUESTION\"]\n",
    "lh_question_votedup = [act.target.question.title for act in lh.activities if act.type == \"VOTEUP_ANSWER\"]\n",
    "\n",
    "wxd_question_following = [act.target.title for act in wxd.activities if act.type == \"FOLLOW_QUESTION\"]\n",
    "wxd_question_votedup = [act.target.question.title for act in wxd.activities if act.type == \"VOTEUP_ANSWER\"]"
   ]
  },
  {
   "cell_type": "code",
   "execution_count": 186,
   "metadata": {
    "collapsed": false
   },
   "outputs": [],
   "source": [
    "# x = np.array([set(lh_question_votedup),set(lh_question_following)])\n",
    "# y = np.array([set(wxd_question_votedup),set(wxd_question_following)])\n",
    "lh_dict = dict(following = np.array(lh_question_following),voteup = np.array(lh_question_votedup))\n",
    "wxd_dict = dict(following = np.array(wxd_question_following),voteup = np.array(wxd_question_votedup))\n",
    "lh_dict_df = pd.DataFrame.from_dict(lh_dict,orient = 'index')\n",
    "wxd_dict_df = pd.DataFrame.from_dict(wxd_dict,orient='index')"
   ]
  },
  {
   "cell_type": "code",
   "execution_count": 179,
   "metadata": {
    "collapsed": false
   },
   "outputs": [],
   "source": [
    "# d = list(map(list, zip(*x)))\n",
    "# e = list(map(list, zip(*y)))\n"
   ]
  },
  {
   "cell_type": "code",
   "execution_count": 172,
   "metadata": {
    "collapsed": false
   },
   "outputs": [],
   "source": [
    "# p = pd.DataFrame(d)\n",
    "# p.columns = [\"votedup\",'question']\n",
    "# q = pd.DataFrame(e)\n",
    "# q.columns = [\"votedup\",'question']"
   ]
  },
  {
   "cell_type": "code",
   "execution_count": 174,
   "metadata": {
    "collapsed": false
   },
   "outputs": [],
   "source": [
    "# writer = pd.ExcelWriter(\"zhihu2.xlsx\")\n",
    "# p.to_excel(writer,'lh activities',index=False)\n",
    "# q.to_excel(writer,'wxd activities',index=False)\n",
    "# writer.close()"
   ]
  },
  {
   "cell_type": "code",
   "execution_count": 191,
   "metadata": {
    "collapsed": true
   },
   "outputs": [],
   "source": [
    "writer = pd.ExcelWriter(\"zhihu3.xlsx\")\n",
    "lh_dict_df.transpose().to_excel(writer,'lh activities',index=False)\n",
    "wxd_dict_df.transpose().to_excel(writer,'wxd activities',index=False)\n",
    "me_dict_df.transpose().to_excel(writer,'me activities',index=False)\n",
    "writer.close()"
   ]
  }
 ],
 "metadata": {
  "kernelspec": {
   "display_name": "Python 3",
   "language": "python",
   "name": "python3"
  },
  "language_info": {
   "codemirror_mode": {
    "name": "ipython",
    "version": 3
   },
   "file_extension": ".py",
   "mimetype": "text/x-python",
   "name": "python",
   "nbconvert_exporter": "python",
   "pygments_lexer": "ipython3",
   "version": "3.4.3"
  }
 },
 "nbformat": 4,
 "nbformat_minor": 0
}
